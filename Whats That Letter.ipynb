{
  "nbformat": 4,
  "nbformat_minor": 0,
  "metadata": {
    "colab": {
      "name": "Whats That Letter.ipynb",
      "provenance": []
    },
    "kernelspec": {
      "name": "python3",
      "display_name": "Python 3"
    },
    "accelerator": "GPU"
  },
  "cells": [
    {
      "cell_type": "code",
      "metadata": {
        "id": "1NR1fzcmN7NP",
        "colab_type": "code",
        "colab": {
          "resources": {
            "http://localhost:8080/nbextensions/google.colab/files.js": {
              "data": "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",
              "ok": true,
              "headers": [
                [
                  "content-type",
                  "application/javascript"
                ]
              ],
              "status": 200,
              "status_text": ""
            }
          },
          "base_uri": "https://localhost:8080/",
          "height": 74
        },
        "outputId": "b1af5eb2-26b8-4028-a624-266cfe8018da"
      },
      "source": [
        "!pip install -q kaggle\n",
        "\n",
        "from google.colab import files\n",
        "files.upload()\n",
        "\n",
        "!mkdir ~/.kaggle\n",
        "!cp kaggle.json ~/.kaggle/\n",
        "!chmod 600 ~/.kaggle/kaggle.json"
      ],
      "execution_count": 1,
      "outputs": [
        {
          "output_type": "display_data",
          "data": {
            "text/html": [
              "\n",
              "     <input type=\"file\" id=\"files-cd5743d1-36ff-4c01-8711-617814b8f648\" name=\"files[]\" multiple disabled />\n",
              "     <output id=\"result-cd5743d1-36ff-4c01-8711-617814b8f648\">\n",
              "      Upload widget is only available when the cell has been executed in the\n",
              "      current browser session. Please rerun this cell to enable.\n",
              "      </output>\n",
              "      <script src=\"/nbextensions/google.colab/files.js\"></script> "
            ],
            "text/plain": [
              "<IPython.core.display.HTML object>"
            ]
          },
          "metadata": {
            "tags": []
          }
        },
        {
          "output_type": "stream",
          "text": [
            "Saving kaggle.json to kaggle.json\n"
          ],
          "name": "stdout"
        }
      ]
    },
    {
      "cell_type": "code",
      "metadata": {
        "id": "vZRS2DfwUKk5",
        "colab_type": "code",
        "outputId": "8fd74a0f-6991-49eb-dee6-65892615ab0b",
        "colab": {
          "base_uri": "https://localhost:8080/",
          "height": 67
        }
      },
      "source": [
        "!kaggle datasets download -d datamunge/sign-language-mnist"
      ],
      "execution_count": 2,
      "outputs": [
        {
          "output_type": "stream",
          "text": [
            "Downloading sign-language-mnist.zip to /content\n",
            " 78% 49.0M/62.6M [00:01<00:00, 18.6MB/s]\n",
            "100% 62.6M/62.6M [00:01<00:00, 49.8MB/s]\n"
          ],
          "name": "stdout"
        }
      ]
    },
    {
      "cell_type": "code",
      "metadata": {
        "id": "JQ3BVE6CUV3o",
        "colab_type": "code",
        "outputId": "a320d227-cf90-442d-a059-b6f6cba5a48e",
        "colab": {
          "base_uri": "https://localhost:8080/",
          "height": 151
        }
      },
      "source": [
        "!unzip sign-language-mnist.zip"
      ],
      "execution_count": 3,
      "outputs": [
        {
          "output_type": "stream",
          "text": [
            "Archive:  sign-language-mnist.zip\n",
            "  inflating: amer_sign2.png          \n",
            "  inflating: amer_sign3.png          \n",
            "  inflating: american_sign_language.PNG  \n",
            "  inflating: sign_mnist_test.csv     \n",
            "  inflating: sign_mnist_test/sign_mnist_test.csv  \n",
            "  inflating: sign_mnist_train.csv    \n",
            "  inflating: sign_mnist_train/sign_mnist_train.csv  \n"
          ],
          "name": "stdout"
        }
      ]
    },
    {
      "cell_type": "code",
      "metadata": {
        "id": "Tt_if5KLUb3O",
        "colab_type": "code",
        "outputId": "48631f09-b057-4c6b-b28e-6a1f5e2737e5",
        "colab": {
          "base_uri": "https://localhost:8080/",
          "height": 34
        }
      },
      "source": [
        "import pandas as pd\n",
        "import matplotlib.pyplot as plt\n",
        "\n",
        "from sklearn.linear_model import LogisticRegression\n",
        "from sklearn.svm import SVC\n",
        "from sklearn.tree import DecisionTreeClassifier\n",
        "from sklearn.ensemble import RandomForestClassifier\n",
        "from sklearn.metrics import accuracy_score\n",
        "\n",
        "from keras.layers import Input, Dense, Dropout, Convolution2D, MaxPooling2D, Flatten\n",
        "from keras.models import Model\n",
        "from keras.preprocessing.image import ImageDataGenerator\n",
        "from keras.regularizers import l2\n",
        "from keras.callbacks import ReduceLROnPlateau, EarlyStopping"
      ],
      "execution_count": 4,
      "outputs": [
        {
          "output_type": "stream",
          "text": [
            "Using TensorFlow backend.\n"
          ],
          "name": "stderr"
        }
      ]
    },
    {
      "cell_type": "code",
      "metadata": {
        "id": "zNJN89Gkov9-",
        "colab_type": "code",
        "colab": {}
      },
      "source": [
        "def train_ml(X_train, y_train, X_test, y_test):\n",
        "\n",
        "  print('-- Training LR --')\n",
        "  lr = LogisticRegression(max_iter=2000, n_jobs=-1)\n",
        "  lr.fit(X_train, y_train)\n",
        "  y_pred = lr.predict(X_test)\n",
        "  acc_lr = accuracy_score(y_test, y_pred)\n",
        "  print('-- LR Trained --')\n",
        "\n",
        "  print('-- Training SVC --')\n",
        "  svc = SVC()\n",
        "  svc.fit(X_train, y_train)\n",
        "  y_pred_svc = svc.predict(X_test)\n",
        "  acc_svc = accuracy_score(y_test, y_pred_svc)\n",
        "  print('-- SVC Trained --')\n",
        "\n",
        "  print('-- Training DTR --')\n",
        "  dtr = DecisionTreeClassifier()\n",
        "  dtr.fit(X_train, y_train)\n",
        "  y_pred_dtr = dtr.predict(X_test)\n",
        "  acc_dtr = accuracy_score(y_test, y_pred_dtr)\n",
        "  print('-- DTR Trained --')\n",
        "\n",
        "  print('-- Training RFR --')\n",
        "  rfr = RandomForestClassifier(n_jobs=-1)\n",
        "  rfr.fit(X_train, y_train)\n",
        "  y_pred_rfr = rfr.predict(X_test)\n",
        "  acc_rfr = accuracy_score(y_test, y_pred_rfr)\n",
        "  print('-- RFR Trained --')\n",
        "\n",
        "  pred = pd.DataFrame({'Model': ['LR', 'SVC', 'DTR', 'RFR'], 'Accuracy': [acc_lr, acc_svc, acc_dtr, acc_rfr]})\n",
        "\n",
        "  return pred"
      ],
      "execution_count": 0,
      "outputs": []
    },
    {
      "cell_type": "code",
      "metadata": {
        "id": "-zGCpxJ68HzR",
        "colab_type": "code",
        "colab": {}
      },
      "source": [
        "def train_nn(X_train, y_train, X_test, y_test):\n",
        "\n",
        "  i = Input(shape=(X_train.shape[1], ))\n",
        "  x = Dropout(0.2)(i)\n",
        "  x = Dense(units=512, activation='relu')(x)\n",
        "  x = Dropout(0.2)(x)\n",
        "  x = Dense(units=256, activation='relu')(x)\n",
        "  x = Dropout(0.2)(x)\n",
        "  x = Dense(units=128, activation='relu')(x)\n",
        "  x = Dropout(0.2)(x)\n",
        "  x = Dense(units=64, activation='relu')(x)\n",
        "  x = Dense(units=y_train.shape[1], activation='softmax')(x)\n",
        "\n",
        "  model = Model(inputs=i, outputs=x)\n",
        "\n",
        "  model.compile(optimizer='adam', loss='categorical_crossentropy', metrics=['accuracy'])\n",
        "\n",
        "  history = model.fit(X_train, y_train, epochs=100, batch_size=64, validation_data=(X_test, y_test))\n",
        "\n",
        "  return model, history"
      ],
      "execution_count": 0,
      "outputs": []
    },
    {
      "cell_type": "code",
      "metadata": {
        "id": "_Pg_Hmamg0o6",
        "colab_type": "code",
        "colab": {}
      },
      "source": [
        "def train_cnn(X_train, y_train, X_test, y_test, datagen, l2_loss=None, epochs=50, batch_size=64):\n",
        "\n",
        "  if l2_loss is None:\n",
        "    l2_param = None\n",
        "  else:\n",
        "    l2_param = l2(l2_loss)\n",
        "\n",
        "  reduce_lr = ReduceLROnPlateau(monitor='val_loss', patience=5, verbose=1)\n",
        "  es = EarlyStopping(patience=10, verbose=1)\n",
        "\n",
        "  i = Input(shape=(28, 28, 1))\n",
        "  x = Convolution2D(64, input_shape=(28, 28, 1), kernel_size=(5, 5), activation='relu', kernel_regularizer=l2_param)(i)\n",
        "  x = MaxPooling2D(pool_size=(2, 2))(x)\n",
        "  # x = Dropout(0.2)(x)\n",
        "  x = Convolution2D(32, kernel_size=(5, 5), activation='relu', padding='same', kernel_regularizer=l2_param)(x)\n",
        "  x = MaxPooling2D(pool_size=(2, 2))(x)\n",
        "  # x = Dropout(0.2)(5, 5))\n",
        "  x = Convolution2D(16, kernel_size=(5, 5), activation='relu', padding='same', kernel_regularizer=l2_param)(x)\n",
        "  x = MaxPooling2D(pool_size=(2, 2))(x)\n",
        "  # x = Dropout(0.2)(x)\n",
        "  x = Convolution2D(8, kernel_size=(5, 5), activation='relu', padding='same', kernel_regularizer=l2_param)(x)\n",
        "  x = MaxPooling2D(pool_size=(2, 2))(x)\n",
        "  x = Flatten()(x)\n",
        "  x = Dense(y_train.shape[1], activation='softmax')(x)\n",
        "  model = Model(i, x)\n",
        "\n",
        "  model.compile(optimizer='adam', loss='categorical_crossentropy', metrics=['accuracy'])\n",
        "\n",
        "  history = model.fit(datagen.flow(X_train, y_train, batch_size=batch_size), epochs=epochs, validation_data=(X_test, y_test), callbacks=[reduce_lr, es])\n",
        "\n",
        "  return model, history"
      ],
      "execution_count": 0,
      "outputs": []
    },
    {
      "cell_type": "code",
      "metadata": {
        "id": "6rGVXCGOa3u4",
        "colab_type": "code",
        "colab": {}
      },
      "source": [
        "def get_label(code):\n",
        "  return chr(code+65)"
      ],
      "execution_count": 0,
      "outputs": []
    },
    {
      "cell_type": "code",
      "metadata": {
        "id": "9WJi8XC-VLm_",
        "colab_type": "code",
        "colab": {}
      },
      "source": [
        "train_df = pd.read_csv('sign_mnist_train.csv')\n",
        "test_df = pd.read_csv('sign_mnist_test.csv')"
      ],
      "execution_count": 0,
      "outputs": []
    },
    {
      "cell_type": "code",
      "metadata": {
        "id": "iQICIS70VVBi",
        "colab_type": "code",
        "colab": {}
      },
      "source": [
        "X_train, y_train = train_df.iloc[:, 1:], train_df.iloc[:, 0]\n",
        "X_test, y_test = test_df.iloc[:, 1:], test_df.iloc[:, 0]"
      ],
      "execution_count": 0,
      "outputs": []
    },
    {
      "cell_type": "code",
      "metadata": {
        "id": "9BBEpB5UWzGd",
        "colab_type": "code",
        "outputId": "befd00ee-9ed4-49af-82a8-0fe91b285353",
        "colab": {
          "base_uri": "https://localhost:8080/",
          "height": 611
        }
      },
      "source": [
        "plt.figure()\n",
        "\n",
        "f, axarr = plt.subplots(4, 4, figsize=(10, 10)) \n",
        "plt.subplots_adjust(left=None, bottom=None, right=None, top=None, wspace=0.1, hspace=0.2)\n",
        "\n",
        "for i in range(4):\n",
        "  for j in range(4):\n",
        "    fig = axarr[i][j].imshow(X_train.iloc[i+j, :].values.reshape(28, 28), cmap='gray')\n",
        "    axarr[i][j].set_title('True Label: '+get_label(y_train[i+j]))\n",
        "    fig.axes.get_xaxis().set_visible(False)\n",
        "    fig.axes.get_yaxis().set_visible(False)"
      ],
      "execution_count": 11,
      "outputs": [
        {
          "output_type": "display_data",
          "data": {
            "text/plain": [
              "<Figure size 432x288 with 0 Axes>"
            ]
          },
          "metadata": {
            "tags": []
          }
        },
        {
          "output_type": "display_data",
          "data": {
            "image/png": "[encoded data removed]",
            "text/plain": [
              "<Figure size 720x720 with 16 Axes>"
            ]
          },
          "metadata": {
            "tags": [],
            "needs_background": "light"
          }
        }
      ]
    },
    {
      "cell_type": "code",
      "metadata": {
        "id": "C4xUFR9_btcW",
        "colab_type": "code",
        "outputId": "0d04caab-79d8-41b0-a2e7-e8a43c423d65",
        "colab": {
          "base_uri": "https://localhost:8080/",
          "height": 320
        }
      },
      "source": [
        "fig = y_train.apply(get_label).value_counts().sort_values(ascending=False).plot(kind='bar', figsize=(8, 5))"
      ],
      "execution_count": 12,
      "outputs": [
        {
          "output_type": "display_data",
          "data": {
            "image/png": "[encoded data removed]",
            "text/plain": [
              "<Figure size 576x360 with 1 Axes>"
            ]
          },
          "metadata": {
            "tags": [],
            "needs_background": "light"
          }
        }
      ]
    },
    {
      "cell_type": "code",
      "metadata": {
        "id": "Ndm91kddnBBp",
        "colab_type": "code",
        "colab": {}
      },
      "source": [
        "X_train /= 255.\n",
        "X_test /= 255."
      ],
      "execution_count": 0,
      "outputs": []
    },
    {
      "cell_type": "code",
      "metadata": {
        "id": "8QV3Xk2tisFW",
        "colab_type": "code",
        "outputId": "9bbbece0-e31e-42af-af28-b8602acc19d1",
        "colab": {
          "base_uri": "https://localhost:8080/",
          "height": 300
        }
      },
      "source": [
        "pred = train_ml(X_train, y_train, X_test, y_test)\n",
        "pred"
      ],
      "execution_count": 14,
      "outputs": [
        {
          "output_type": "stream",
          "text": [
            "-- Training LR --\n",
            "-- LR Trained --\n",
            "-- Training SVC --\n",
            "-- SVC Trained --\n",
            "-- Training DTR --\n",
            "-- DTR Trained --\n",
            "-- Training RFR --\n",
            "-- RFR Trained --\n"
          ],
          "name": "stdout"
        },
        {
          "output_type": "execute_result",
          "data": {
            "text/html": [
              "<div>\n",
              "<style scoped>\n",
              "    .dataframe tbody tr th:only-of-type {\n",
              "        vertical-align: middle;\n",
              "    }\n",
              "\n",
              "    .dataframe tbody tr th {\n",
              "        vertical-align: top;\n",
              "    }\n",
              "\n",
              "    .dataframe thead th {\n",
              "        text-align: right;\n",
              "    }\n",
              "</style>\n",
              "<table border=\"1\" class=\"dataframe\">\n",
              "  <thead>\n",
              "    <tr style=\"text-align: right;\">\n",
              "      <th></th>\n",
              "      <th>Model</th>\n",
              "      <th>Accuracy</th>\n",
              "    </tr>\n",
              "  </thead>\n",
              "  <tbody>\n",
              "    <tr>\n",
              "      <th>0</th>\n",
              "      <td>LR</td>\n",
              "      <td>0.691718</td>\n",
              "    </tr>\n",
              "    <tr>\n",
              "      <th>1</th>\n",
              "      <td>SVC</td>\n",
              "      <td>0.841885</td>\n",
              "    </tr>\n",
              "    <tr>\n",
              "      <th>2</th>\n",
              "      <td>DTR</td>\n",
              "      <td>0.432376</td>\n",
              "    </tr>\n",
              "    <tr>\n",
              "      <th>3</th>\n",
              "      <td>RFR</td>\n",
              "      <td>0.814557</td>\n",
              "    </tr>\n",
              "  </tbody>\n",
              "</table>\n",
              "</div>"
            ],
            "text/plain": [
              "  Model  Accuracy\n",
              "0    LR  0.691718\n",
              "1   SVC  0.841885\n",
              "2   DTR  0.432376\n",
              "3   RFR  0.814557"
            ]
          },
          "metadata": {
            "tags": []
          },
          "execution_count": 14
        }
      ]
    },
    {
      "cell_type": "code",
      "metadata": {
        "id": "6zrZJ3_c95wE",
        "colab_type": "code",
        "colab": {}
      },
      "source": [
        "from sklearn.preprocessing import OneHotEncoder\n",
        "\n",
        "ohe = OneHotEncoder()\n",
        "\n",
        "y_train = ohe.fit_transform(y_train.values.reshape(-1, 1))\n",
        "y_test = ohe.transform(y_test.values.reshape(-1, 1))"
      ],
      "execution_count": 0,
      "outputs": []
    },
    {
      "cell_type": "code",
      "metadata": {
        "id": "0nhu9I02-3kw",
        "colab_type": "code",
        "outputId": "ffa3f303-d91e-400b-b1ed-c35382281d6a",
        "colab": {
          "base_uri": "https://localhost:8080/",
          "height": 34
        }
      },
      "source": [
        "y_train.shape"
      ],
      "execution_count": 16,
      "outputs": [
        {
          "output_type": "execute_result",
          "data": {
            "text/plain": [
              "(27455, 24)"
            ]
          },
          "metadata": {
            "tags": []
          },
          "execution_count": 16
        }
      ]
    },
    {
      "cell_type": "code",
      "metadata": {
        "id": "g0HVD6ju92AL",
        "colab_type": "code",
        "outputId": "c1af5406-9fc8-46a4-c9ea-084cc7a46e3c",
        "colab": {
          "base_uri": "https://localhost:8080/",
          "height": 1000
        }
      },
      "source": [
        "model, history = train_nn(X_train, y_train, X_test, y_test)"
      ],
      "execution_count": 17,
      "outputs": [
        {
          "output_type": "stream",
          "text": [
            "Train on 27455 samples, validate on 7172 samples\n",
            "Epoch 1/100\n",
            "27455/27455 [==============================] - 4s 146us/step - loss: 2.7569 - accuracy: 0.1417 - val_loss: 1.9971 - val_accuracy: 0.3487\n",
            "Epoch 2/100\n",
            "27455/27455 [==============================] - 2s 80us/step - loss: 2.0090 - accuracy: 0.3321 - val_loss: 1.6996 - val_accuracy: 0.4699\n",
            "Epoch 3/100\n",
            "27455/27455 [==============================] - 2s 78us/step - loss: 1.7333 - accuracy: 0.4152 - val_loss: 1.4199 - val_accuracy: 0.5082\n",
            "Epoch 4/100\n",
            "27455/27455 [==============================] - 2s 78us/step - loss: 1.5775 - accuracy: 0.4668 - val_loss: 1.2565 - val_accuracy: 0.5503\n",
            "Epoch 5/100\n",
            "27455/27455 [==============================] - 2s 78us/step - loss: 1.4605 - accuracy: 0.5043 - val_loss: 1.1940 - val_accuracy: 0.5828\n",
            "Epoch 6/100\n",
            "27455/27455 [==============================] - 2s 78us/step - loss: 1.3491 - accuracy: 0.5413 - val_loss: 1.1105 - val_accuracy: 0.6004\n",
            "Epoch 7/100\n",
            "27455/27455 [==============================] - 2s 78us/step - loss: 1.2863 - accuracy: 0.5632 - val_loss: 1.0362 - val_accuracy: 0.6580\n",
            "Epoch 8/100\n",
            "27455/27455 [==============================] - 2s 78us/step - loss: 1.2131 - accuracy: 0.5869 - val_loss: 1.0159 - val_accuracy: 0.6385\n",
            "Epoch 9/100\n",
            "27455/27455 [==============================] - 2s 79us/step - loss: 1.1771 - accuracy: 0.5999 - val_loss: 0.9862 - val_accuracy: 0.6792\n",
            "Epoch 10/100\n",
            "27455/27455 [==============================] - 2s 81us/step - loss: 1.1117 - accuracy: 0.6240 - val_loss: 0.9163 - val_accuracy: 0.6785\n",
            "Epoch 11/100\n",
            "27455/27455 [==============================] - 2s 79us/step - loss: 1.0995 - accuracy: 0.6316 - val_loss: 0.9428 - val_accuracy: 0.6721\n",
            "Epoch 12/100\n",
            "27455/27455 [==============================] - 2s 81us/step - loss: 1.0514 - accuracy: 0.6404 - val_loss: 0.8249 - val_accuracy: 0.7231\n",
            "Epoch 13/100\n",
            "27455/27455 [==============================] - 2s 80us/step - loss: 1.0246 - accuracy: 0.6488 - val_loss: 0.8719 - val_accuracy: 0.6962\n",
            "Epoch 14/100\n",
            "27455/27455 [==============================] - 2s 80us/step - loss: 0.9964 - accuracy: 0.6642 - val_loss: 0.8191 - val_accuracy: 0.7439\n",
            "Epoch 15/100\n",
            "27455/27455 [==============================] - 2s 80us/step - loss: 0.9747 - accuracy: 0.6664 - val_loss: 0.8174 - val_accuracy: 0.7163\n",
            "Epoch 16/100\n",
            "27455/27455 [==============================] - 2s 80us/step - loss: 0.9464 - accuracy: 0.6761 - val_loss: 0.8078 - val_accuracy: 0.7050\n",
            "Epoch 17/100\n",
            "27455/27455 [==============================] - 2s 82us/step - loss: 0.9369 - accuracy: 0.6794 - val_loss: 0.7640 - val_accuracy: 0.7448\n",
            "Epoch 18/100\n",
            "27455/27455 [==============================] - 2s 80us/step - loss: 0.9208 - accuracy: 0.6869 - val_loss: 0.8363 - val_accuracy: 0.7119\n",
            "Epoch 19/100\n",
            "27455/27455 [==============================] - 2s 79us/step - loss: 0.9065 - accuracy: 0.6924 - val_loss: 0.7627 - val_accuracy: 0.7462\n",
            "Epoch 20/100\n",
            "27455/27455 [==============================] - 2s 79us/step - loss: 0.8796 - accuracy: 0.7027 - val_loss: 0.8082 - val_accuracy: 0.7518\n",
            "Epoch 21/100\n",
            "27455/27455 [==============================] - 2s 79us/step - loss: 0.8703 - accuracy: 0.7064 - val_loss: 0.7276 - val_accuracy: 0.7598\n",
            "Epoch 22/100\n",
            "27455/27455 [==============================] - 2s 79us/step - loss: 0.8748 - accuracy: 0.7035 - val_loss: 0.7070 - val_accuracy: 0.7888\n",
            "Epoch 23/100\n",
            "27455/27455 [==============================] - 2s 80us/step - loss: 0.8500 - accuracy: 0.7128 - val_loss: 0.7314 - val_accuracy: 0.7335\n",
            "Epoch 24/100\n",
            "27455/27455 [==============================] - 2s 80us/step - loss: 0.8466 - accuracy: 0.7142 - val_loss: 0.7381 - val_accuracy: 0.7628\n",
            "Epoch 25/100\n",
            "27455/27455 [==============================] - 2s 79us/step - loss: 0.8244 - accuracy: 0.7200 - val_loss: 0.7210 - val_accuracy: 0.7617\n",
            "Epoch 26/100\n",
            "27455/27455 [==============================] - 2s 79us/step - loss: 0.8171 - accuracy: 0.7257 - val_loss: 0.7032 - val_accuracy: 0.7666\n",
            "Epoch 27/100\n",
            "27455/27455 [==============================] - 2s 79us/step - loss: 0.8133 - accuracy: 0.7272 - val_loss: 0.7397 - val_accuracy: 0.7540\n",
            "Epoch 28/100\n",
            "27455/27455 [==============================] - 2s 79us/step - loss: 0.8037 - accuracy: 0.7300 - val_loss: 0.7491 - val_accuracy: 0.7617\n",
            "Epoch 29/100\n",
            "27455/27455 [==============================] - 2s 78us/step - loss: 0.7929 - accuracy: 0.7296 - val_loss: 0.6613 - val_accuracy: 0.8035\n",
            "Epoch 30/100\n",
            "27455/27455 [==============================] - 2s 80us/step - loss: 0.7832 - accuracy: 0.7340 - val_loss: 0.6490 - val_accuracy: 0.7879\n",
            "Epoch 31/100\n",
            "27455/27455 [==============================] - 2s 79us/step - loss: 0.7790 - accuracy: 0.7371 - val_loss: 0.6773 - val_accuracy: 0.7681\n",
            "Epoch 32/100\n",
            "27455/27455 [==============================] - 2s 79us/step - loss: 0.7743 - accuracy: 0.7404 - val_loss: 0.7079 - val_accuracy: 0.7724\n",
            "Epoch 33/100\n",
            "27455/27455 [==============================] - 2s 78us/step - loss: 0.7580 - accuracy: 0.7444 - val_loss: 0.6688 - val_accuracy: 0.7681\n",
            "Epoch 34/100\n",
            "27455/27455 [==============================] - 2s 78us/step - loss: 0.7505 - accuracy: 0.7476 - val_loss: 0.7399 - val_accuracy: 0.7501\n",
            "Epoch 35/100\n",
            "27455/27455 [==============================] - 2s 77us/step - loss: 0.7385 - accuracy: 0.7525 - val_loss: 0.6973 - val_accuracy: 0.7667\n",
            "Epoch 36/100\n",
            "27455/27455 [==============================] - 2s 79us/step - loss: 0.7484 - accuracy: 0.7494 - val_loss: 0.6750 - val_accuracy: 0.7652\n",
            "Epoch 37/100\n",
            "27455/27455 [==============================] - 2s 81us/step - loss: 0.7417 - accuracy: 0.7509 - val_loss: 0.7054 - val_accuracy: 0.7632\n",
            "Epoch 38/100\n",
            "27455/27455 [==============================] - 2s 79us/step - loss: 0.7315 - accuracy: 0.7540 - val_loss: 0.6824 - val_accuracy: 0.7790\n",
            "Epoch 39/100\n",
            "27455/27455 [==============================] - 2s 78us/step - loss: 0.7297 - accuracy: 0.7561 - val_loss: 0.6639 - val_accuracy: 0.7916\n",
            "Epoch 40/100\n",
            "27455/27455 [==============================] - 2s 79us/step - loss: 0.7192 - accuracy: 0.7610 - val_loss: 0.6333 - val_accuracy: 0.7942\n",
            "Epoch 41/100\n",
            "27455/27455 [==============================] - 2s 78us/step - loss: 0.7172 - accuracy: 0.7594 - val_loss: 0.6180 - val_accuracy: 0.8044\n",
            "Epoch 42/100\n",
            "27455/27455 [==============================] - 2s 80us/step - loss: 0.7212 - accuracy: 0.7599 - val_loss: 0.6003 - val_accuracy: 0.8116\n",
            "Epoch 43/100\n",
            "27455/27455 [==============================] - 2s 79us/step - loss: 0.7072 - accuracy: 0.7658 - val_loss: 0.6570 - val_accuracy: 0.7911\n",
            "Epoch 44/100\n",
            "27455/27455 [==============================] - 2s 79us/step - loss: 0.6975 - accuracy: 0.7658 - val_loss: 0.6343 - val_accuracy: 0.7897\n",
            "Epoch 45/100\n",
            "27455/27455 [==============================] - 2s 80us/step - loss: 0.7052 - accuracy: 0.7643 - val_loss: 0.5828 - val_accuracy: 0.8094\n",
            "Epoch 46/100\n",
            "27455/27455 [==============================] - 2s 81us/step - loss: 0.7042 - accuracy: 0.7637 - val_loss: 0.6124 - val_accuracy: 0.8033\n",
            "Epoch 47/100\n",
            "27455/27455 [==============================] - 2s 80us/step - loss: 0.6985 - accuracy: 0.7683 - val_loss: 0.6125 - val_accuracy: 0.7914\n",
            "Epoch 48/100\n",
            "27455/27455 [==============================] - 2s 80us/step - loss: 0.6930 - accuracy: 0.7685 - val_loss: 0.6256 - val_accuracy: 0.7805\n",
            "Epoch 49/100\n",
            "27455/27455 [==============================] - 2s 86us/step - loss: 0.6906 - accuracy: 0.7678 - val_loss: 0.5680 - val_accuracy: 0.8141\n",
            "Epoch 50/100\n",
            "27455/27455 [==============================] - 2s 84us/step - loss: 0.6946 - accuracy: 0.7683 - val_loss: 0.6205 - val_accuracy: 0.7989\n",
            "Epoch 51/100\n",
            "27455/27455 [==============================] - 2s 85us/step - loss: 0.6829 - accuracy: 0.7729 - val_loss: 0.5889 - val_accuracy: 0.8217\n",
            "Epoch 52/100\n",
            "27455/27455 [==============================] - 2s 83us/step - loss: 0.6838 - accuracy: 0.7742 - val_loss: 0.6326 - val_accuracy: 0.7897\n",
            "Epoch 53/100\n",
            "27455/27455 [==============================] - 2s 84us/step - loss: 0.6811 - accuracy: 0.7745 - val_loss: 0.6194 - val_accuracy: 0.7924\n",
            "Epoch 54/100\n",
            "27455/27455 [==============================] - 2s 80us/step - loss: 0.6673 - accuracy: 0.7771 - val_loss: 0.6423 - val_accuracy: 0.7949\n",
            "Epoch 55/100\n",
            "27455/27455 [==============================] - 2s 80us/step - loss: 0.6774 - accuracy: 0.7741 - val_loss: 0.6033 - val_accuracy: 0.8044\n",
            "Epoch 56/100\n",
            "27455/27455 [==============================] - 2s 80us/step - loss: 0.6723 - accuracy: 0.7785 - val_loss: 0.5998 - val_accuracy: 0.8016\n",
            "Epoch 57/100\n",
            "27455/27455 [==============================] - 2s 80us/step - loss: 0.6695 - accuracy: 0.7772 - val_loss: 0.5979 - val_accuracy: 0.7957\n",
            "Epoch 58/100\n",
            "27455/27455 [==============================] - 2s 80us/step - loss: 0.6540 - accuracy: 0.7844 - val_loss: 0.5927 - val_accuracy: 0.7900\n",
            "Epoch 59/100\n",
            "27455/27455 [==============================] - 2s 79us/step - loss: 0.6595 - accuracy: 0.7809 - val_loss: 0.6346 - val_accuracy: 0.7840\n",
            "Epoch 60/100\n",
            "27455/27455 [==============================] - 2s 80us/step - loss: 0.6525 - accuracy: 0.7837 - val_loss: 0.6372 - val_accuracy: 0.7779\n",
            "Epoch 61/100\n",
            "27455/27455 [==============================] - 2s 81us/step - loss: 0.6666 - accuracy: 0.7831 - val_loss: 0.6426 - val_accuracy: 0.7920\n",
            "Epoch 62/100\n",
            "27455/27455 [==============================] - 2s 80us/step - loss: 0.6578 - accuracy: 0.7819 - val_loss: 0.6185 - val_accuracy: 0.7953\n",
            "Epoch 63/100\n",
            "27455/27455 [==============================] - 2s 81us/step - loss: 0.6565 - accuracy: 0.7844 - val_loss: 0.6717 - val_accuracy: 0.7913\n",
            "Epoch 64/100\n",
            "27455/27455 [==============================] - 2s 80us/step - loss: 0.6538 - accuracy: 0.7850 - val_loss: 0.6080 - val_accuracy: 0.7942\n",
            "Epoch 65/100\n",
            "27455/27455 [==============================] - 2s 81us/step - loss: 0.6454 - accuracy: 0.7877 - val_loss: 0.6363 - val_accuracy: 0.7853\n",
            "Epoch 66/100\n",
            "27455/27455 [==============================] - 2s 82us/step - loss: 0.6474 - accuracy: 0.7866 - val_loss: 0.6082 - val_accuracy: 0.7913\n",
            "Epoch 67/100\n",
            "27455/27455 [==============================] - 2s 80us/step - loss: 0.6484 - accuracy: 0.7851 - val_loss: 0.6330 - val_accuracy: 0.7897\n",
            "Epoch 68/100\n",
            "27455/27455 [==============================] - 2s 80us/step - loss: 0.6334 - accuracy: 0.7910 - val_loss: 0.6371 - val_accuracy: 0.7896\n",
            "Epoch 69/100\n",
            "27455/27455 [==============================] - 2s 80us/step - loss: 0.6446 - accuracy: 0.7887 - val_loss: 0.6278 - val_accuracy: 0.7918\n",
            "Epoch 70/100\n",
            "27455/27455 [==============================] - 2s 81us/step - loss: 0.6425 - accuracy: 0.7873 - val_loss: 0.5879 - val_accuracy: 0.7980\n",
            "Epoch 71/100\n",
            "27455/27455 [==============================] - 2s 81us/step - loss: 0.6416 - accuracy: 0.7848 - val_loss: 0.6095 - val_accuracy: 0.7899\n",
            "Epoch 72/100\n",
            "27455/27455 [==============================] - 2s 83us/step - loss: 0.6270 - accuracy: 0.7929 - val_loss: 0.5975 - val_accuracy: 0.8009\n",
            "Epoch 73/100\n",
            "27455/27455 [==============================] - 2s 81us/step - loss: 0.6417 - accuracy: 0.7876 - val_loss: 0.6048 - val_accuracy: 0.8047\n",
            "Epoch 74/100\n",
            "27455/27455 [==============================] - 2s 80us/step - loss: 0.6302 - accuracy: 0.7935 - val_loss: 0.5729 - val_accuracy: 0.8158\n",
            "Epoch 75/100\n",
            "27455/27455 [==============================] - 2s 80us/step - loss: 0.6261 - accuracy: 0.7950 - val_loss: 0.5814 - val_accuracy: 0.8070\n",
            "Epoch 76/100\n",
            "27455/27455 [==============================] - 2s 79us/step - loss: 0.6302 - accuracy: 0.7921 - val_loss: 0.6276 - val_accuracy: 0.7853\n",
            "Epoch 77/100\n",
            "27455/27455 [==============================] - 2s 80us/step - loss: 0.6255 - accuracy: 0.7965 - val_loss: 0.6296 - val_accuracy: 0.7776\n",
            "Epoch 78/100\n",
            "27455/27455 [==============================] - 2s 83us/step - loss: 0.6256 - accuracy: 0.7938 - val_loss: 0.6349 - val_accuracy: 0.7918\n",
            "Epoch 79/100\n",
            "27455/27455 [==============================] - 2s 80us/step - loss: 0.6269 - accuracy: 0.7932 - val_loss: 0.5976 - val_accuracy: 0.7994\n",
            "Epoch 80/100\n",
            "27455/27455 [==============================] - 2s 82us/step - loss: 0.6207 - accuracy: 0.7932 - val_loss: 0.5820 - val_accuracy: 0.8298\n",
            "Epoch 81/100\n",
            "27455/27455 [==============================] - 2s 81us/step - loss: 0.6324 - accuracy: 0.7944 - val_loss: 0.6138 - val_accuracy: 0.8031\n",
            "Epoch 82/100\n",
            "27455/27455 [==============================] - 2s 80us/step - loss: 0.6270 - accuracy: 0.7924 - val_loss: 0.6171 - val_accuracy: 0.7907\n",
            "Epoch 83/100\n",
            "27455/27455 [==============================] - 2s 82us/step - loss: 0.6235 - accuracy: 0.7948 - val_loss: 0.6243 - val_accuracy: 0.8074\n",
            "Epoch 84/100\n",
            "27455/27455 [==============================] - 2s 81us/step - loss: 0.6135 - accuracy: 0.7983 - val_loss: 0.5687 - val_accuracy: 0.8067\n",
            "Epoch 85/100\n",
            "27455/27455 [==============================] - 2s 82us/step - loss: 0.6110 - accuracy: 0.8014 - val_loss: 0.6339 - val_accuracy: 0.8017\n",
            "Epoch 86/100\n",
            "27455/27455 [==============================] - 2s 81us/step - loss: 0.6198 - accuracy: 0.7955 - val_loss: 0.5494 - val_accuracy: 0.8233\n",
            "Epoch 87/100\n",
            "27455/27455 [==============================] - 2s 82us/step - loss: 0.6089 - accuracy: 0.7980 - val_loss: 0.5694 - val_accuracy: 0.8164\n",
            "Epoch 88/100\n",
            "27455/27455 [==============================] - 2s 82us/step - loss: 0.6169 - accuracy: 0.7967 - val_loss: 0.6065 - val_accuracy: 0.8023\n",
            "Epoch 89/100\n",
            "27455/27455 [==============================] - 2s 83us/step - loss: 0.6172 - accuracy: 0.7974 - val_loss: 0.6003 - val_accuracy: 0.8017\n",
            "Epoch 90/100\n",
            "27455/27455 [==============================] - 2s 81us/step - loss: 0.6032 - accuracy: 0.7993 - val_loss: 0.5786 - val_accuracy: 0.8088\n",
            "Epoch 91/100\n",
            "27455/27455 [==============================] - 2s 80us/step - loss: 0.6088 - accuracy: 0.8013 - val_loss: 0.5437 - val_accuracy: 0.8316\n",
            "Epoch 92/100\n",
            "27455/27455 [==============================] - 2s 82us/step - loss: 0.6090 - accuracy: 0.7993 - val_loss: 0.6025 - val_accuracy: 0.8047\n",
            "Epoch 93/100\n",
            "27455/27455 [==============================] - 2s 80us/step - loss: 0.6164 - accuracy: 0.7963 - val_loss: 0.5511 - val_accuracy: 0.8021\n",
            "Epoch 94/100\n",
            "27455/27455 [==============================] - 2s 81us/step - loss: 0.6033 - accuracy: 0.8000 - val_loss: 0.6293 - val_accuracy: 0.8048\n",
            "Epoch 95/100\n",
            "27455/27455 [==============================] - 2s 80us/step - loss: 0.5996 - accuracy: 0.8023 - val_loss: 0.5921 - val_accuracy: 0.8042\n",
            "Epoch 96/100\n",
            "27455/27455 [==============================] - 2s 81us/step - loss: 0.6006 - accuracy: 0.8009 - val_loss: 0.6595 - val_accuracy: 0.7867\n",
            "Epoch 97/100\n",
            "27455/27455 [==============================] - 2s 83us/step - loss: 0.6034 - accuracy: 0.8028 - val_loss: 0.5922 - val_accuracy: 0.8033\n",
            "Epoch 98/100\n",
            "27455/27455 [==============================] - 2s 84us/step - loss: 0.6080 - accuracy: 0.8005 - val_loss: 0.5533 - val_accuracy: 0.8073\n",
            "Epoch 99/100\n",
            "27455/27455 [==============================] - 2s 83us/step - loss: 0.5895 - accuracy: 0.8047 - val_loss: 0.5948 - val_accuracy: 0.8016\n",
            "Epoch 100/100\n",
            "27455/27455 [==============================] - 2s 80us/step - loss: 0.6008 - accuracy: 0.8035 - val_loss: 0.5576 - val_accuracy: 0.8201\n"
          ],
          "name": "stdout"
        }
      ]
    },
    {
      "cell_type": "code",
      "metadata": {
        "id": "oXlYTyd9_Oh1",
        "colab_type": "code",
        "outputId": "7ddf40bf-2124-4805-dc2e-c4fe0efde2eb",
        "colab": {
          "base_uri": "https://localhost:8080/",
          "height": 282
        }
      },
      "source": [
        "plt.plot(history.history['val_accuracy'])\n",
        "plt.plot(history.history['accuracy'], color='red')"
      ],
      "execution_count": 18,
      "outputs": [
        {
          "output_type": "execute_result",
          "data": {
            "text/plain": [
              "[<matplotlib.lines.Line2D at 0x7fdf1e76af28>]"
            ]
          },
          "metadata": {
            "tags": []
          },
          "execution_count": 18
        },
        {
          "output_type": "display_data",
          "data": {
            "image/png": "[encoded data removed]",
            "text/plain": [
              "<Figure size 432x288 with 1 Axes>"
            ]
          },
          "metadata": {
            "tags": [],
            "needs_background": "light"
          }
        }
      ]
    },
    {
      "cell_type": "code",
      "metadata": {
        "id": "XYDCt0O6Igq3",
        "colab_type": "code",
        "colab": {}
      },
      "source": [
        "X_train = X_train.values.reshape(-1, 28, 28, 1)\n",
        "X_test = X_test.values.reshape(-1, 28, 28, 1)"
      ],
      "execution_count": 0,
      "outputs": []
    },
    {
      "cell_type": "code",
      "metadata": {
        "id": "9mOS4ByqwdtE",
        "colab_type": "code",
        "colab": {}
      },
      "source": [
        "datagen = ImageDataGenerator(\n",
        "        rotation_range=10,\n",
        "        zoom_range = 0.1,\n",
        "        width_shift_range=0.1,\n",
        "        height_shift_range=0.1)\n",
        "\n",
        "datagen.fit(X_train)"
      ],
      "execution_count": 0,
      "outputs": []
    },
    {
      "cell_type": "code",
      "metadata": {
        "id": "VH8PzJv8l4Bq",
        "colab_type": "code",
        "outputId": "879655e4-ccf4-4cac-d84f-0f81d0f3a16c",
        "colab": {
          "base_uri": "https://localhost:8080/",
          "height": 1000
        }
      },
      "source": [
        "model_cnn, history_cnn = train_cnn(X_train, y_train.toarray(), X_test, y_test.toarray(), datagen, epochs=100, batch_size=64)"
      ],
      "execution_count": 21,
      "outputs": [
        {
          "output_type": "stream",
          "text": [
            "Epoch 1/100\n",
            "429/429 [==============================] - 12s 29ms/step - loss: 2.5922 - accuracy: 0.1954 - val_loss: 1.7491 - val_accuracy: 0.3940\n",
            "Epoch 2/100\n",
            "429/429 [==============================] - 7s 17ms/step - loss: 1.4683 - accuracy: 0.5073 - val_loss: 0.9866 - val_accuracy: 0.6550\n",
            "Epoch 3/100\n",
            "429/429 [==============================] - 7s 17ms/step - loss: 0.9695 - accuracy: 0.6698 - val_loss: 0.6095 - val_accuracy: 0.7821\n",
            "Epoch 4/100\n",
            "429/429 [==============================] - 8s 18ms/step - loss: 0.6926 - accuracy: 0.7627 - val_loss: 0.4732 - val_accuracy: 0.8562\n",
            "Epoch 5/100\n",
            "429/429 [==============================] - 7s 17ms/step - loss: 0.5339 - accuracy: 0.8182 - val_loss: 0.3796 - val_accuracy: 0.8588\n",
            "Epoch 6/100\n",
            "429/429 [==============================] - 8s 18ms/step - loss: 0.4032 - accuracy: 0.8645 - val_loss: 0.3367 - val_accuracy: 0.8865\n",
            "Epoch 7/100\n",
            "429/429 [==============================] - 8s 18ms/step - loss: 0.3336 - accuracy: 0.8905 - val_loss: 0.2950 - val_accuracy: 0.8967\n",
            "Epoch 8/100\n",
            "429/429 [==============================] - 8s 18ms/step - loss: 0.2689 - accuracy: 0.9131 - val_loss: 0.2818 - val_accuracy: 0.8883\n",
            "Epoch 9/100\n",
            "429/429 [==============================] - 8s 18ms/step - loss: 0.2340 - accuracy: 0.9219 - val_loss: 0.1914 - val_accuracy: 0.9366\n",
            "Epoch 10/100\n",
            "429/429 [==============================] - 7s 17ms/step - loss: 0.1990 - accuracy: 0.9343 - val_loss: 0.1430 - val_accuracy: 0.9523\n",
            "Epoch 11/100\n",
            "429/429 [==============================] - 7s 17ms/step - loss: 0.1734 - accuracy: 0.9434 - val_loss: 0.1049 - val_accuracy: 0.9647\n",
            "Epoch 12/100\n",
            "429/429 [==============================] - 8s 18ms/step - loss: 0.1512 - accuracy: 0.9503 - val_loss: 0.1011 - val_accuracy: 0.9642\n",
            "Epoch 13/100\n",
            "429/429 [==============================] - 8s 18ms/step - loss: 0.1454 - accuracy: 0.9534 - val_loss: 0.0680 - val_accuracy: 0.9802\n",
            "Epoch 14/100\n",
            "429/429 [==============================] - 8s 18ms/step - loss: 0.1238 - accuracy: 0.9586 - val_loss: 0.1006 - val_accuracy: 0.9671\n",
            "Epoch 15/100\n",
            "429/429 [==============================] - 7s 17ms/step - loss: 0.1143 - accuracy: 0.9627 - val_loss: 0.0539 - val_accuracy: 0.9838\n",
            "Epoch 16/100\n",
            "429/429 [==============================] - 8s 18ms/step - loss: 0.1064 - accuracy: 0.9641 - val_loss: 0.0425 - val_accuracy: 0.9881\n",
            "Epoch 17/100\n",
            "429/429 [==============================] - 8s 18ms/step - loss: 0.1033 - accuracy: 0.9668 - val_loss: 0.0474 - val_accuracy: 0.9881\n",
            "Epoch 18/100\n",
            "429/429 [==============================] - 8s 18ms/step - loss: 0.0930 - accuracy: 0.9695 - val_loss: 0.1105 - val_accuracy: 0.9752\n",
            "Epoch 19/100\n",
            "429/429 [==============================] - 7s 17ms/step - loss: 0.0870 - accuracy: 0.9719 - val_loss: 0.1105 - val_accuracy: 0.9671\n",
            "Epoch 20/100\n",
            "429/429 [==============================] - 7s 17ms/step - loss: 0.0839 - accuracy: 0.9726 - val_loss: 0.0654 - val_accuracy: 0.9773\n",
            "Epoch 21/100\n",
            "429/429 [==============================] - 8s 18ms/step - loss: 0.0792 - accuracy: 0.9742 - val_loss: 0.0448 - val_accuracy: 0.9872\n",
            "\n",
            "Epoch 00021: ReduceLROnPlateau reducing learning rate to 0.00010000000474974513.\n",
            "Epoch 22/100\n",
            "429/429 [==============================] - 7s 17ms/step - loss: 0.0422 - accuracy: 0.9871 - val_loss: 0.0295 - val_accuracy: 0.9933\n",
            "Epoch 23/100\n",
            "429/429 [==============================] - 8s 18ms/step - loss: 0.0373 - accuracy: 0.9887 - val_loss: 0.0189 - val_accuracy: 0.9946\n",
            "Epoch 24/100\n",
            "429/429 [==============================] - 8s 18ms/step - loss: 0.0356 - accuracy: 0.9891 - val_loss: 0.0212 - val_accuracy: 0.9946\n",
            "Epoch 25/100\n",
            "429/429 [==============================] - 8s 18ms/step - loss: 0.0347 - accuracy: 0.9902 - val_loss: 0.0246 - val_accuracy: 0.9946\n",
            "Epoch 26/100\n",
            "429/429 [==============================] - 8s 18ms/step - loss: 0.0331 - accuracy: 0.9904 - val_loss: 0.0240 - val_accuracy: 0.9940\n",
            "Epoch 27/100\n",
            "429/429 [==============================] - 8s 18ms/step - loss: 0.0311 - accuracy: 0.9917 - val_loss: 0.0292 - val_accuracy: 0.9927\n",
            "Epoch 28/100\n",
            "429/429 [==============================] - 8s 18ms/step - loss: 0.0307 - accuracy: 0.9914 - val_loss: 0.0209 - val_accuracy: 0.9937\n",
            "\n",
            "Epoch 00028: ReduceLROnPlateau reducing learning rate to 1.0000000474974514e-05.\n",
            "Epoch 29/100\n",
            "429/429 [==============================] - 8s 18ms/step - loss: 0.0287 - accuracy: 0.9919 - val_loss: 0.0211 - val_accuracy: 0.9947\n",
            "Epoch 30/100\n",
            "429/429 [==============================] - 8s 18ms/step - loss: 0.0294 - accuracy: 0.9914 - val_loss: 0.0212 - val_accuracy: 0.9948\n",
            "Epoch 31/100\n",
            "429/429 [==============================] - 7s 17ms/step - loss: 0.0272 - accuracy: 0.9922 - val_loss: 0.0193 - val_accuracy: 0.9951\n",
            "Epoch 32/100\n",
            "429/429 [==============================] - 8s 18ms/step - loss: 0.0278 - accuracy: 0.9924 - val_loss: 0.0234 - val_accuracy: 0.9948\n",
            "Epoch 33/100\n",
            "429/429 [==============================] - 8s 18ms/step - loss: 0.0261 - accuracy: 0.9925 - val_loss: 0.0198 - val_accuracy: 0.9950\n",
            "\n",
            "Epoch 00033: ReduceLROnPlateau reducing learning rate to 1.0000000656873453e-06.\n",
            "Epoch 00033: early stopping\n"
          ],
          "name": "stdout"
        }
      ]
    },
    {
      "cell_type": "code",
      "metadata": {
        "id": "ixiiXl2HKEQe",
        "colab_type": "code",
        "outputId": "a4cbd9f8-0be9-42f0-f7a5-aba5a7bbcc97",
        "colab": {
          "base_uri": "https://localhost:8080/",
          "height": 282
        }
      },
      "source": [
        "plt.plot(history_cnn.history['val_accuracy'])\n",
        "plt.plot(history_cnn.history['accuracy'], color='red')"
      ],
      "execution_count": 22,
      "outputs": [
        {
          "output_type": "execute_result",
          "data": {
            "text/plain": [
              "[<matplotlib.lines.Line2D at 0x7fdead7b82b0>]"
            ]
          },
          "metadata": {
            "tags": []
          },
          "execution_count": 22
        },
        {
          "output_type": "display_data",
          "data": {
            "image/png": "[encoded data removed]",
            "text/plain": [
              "<Figure size 432x288 with 1 Axes>"
            ]
          },
          "metadata": {
            "tags": [],
            "needs_background": "light"
          }
        }
      ]
    },
    {
      "cell_type": "code",
      "metadata": {
        "id": "JkuNf8sTMsNl",
        "colab_type": "code",
        "colab": {
          "base_uri": "https://localhost:8080/",
          "height": 50
        },
        "outputId": "d375b574-1f5a-407f-d8a7-7db87117bdba"
      },
      "source": [
        "pred.loc[4] = ['ANN', model.evaluate(X_test.reshape(-1, 784), y_test)[1]]\n",
        "pred.loc[5] = ['CNN', model_cnn.evaluate(X_test, y_test)[1]]"
      ],
      "execution_count": 23,
      "outputs": [
        {
          "output_type": "stream",
          "text": [
            "7172/7172 [==============================] - 0s 62us/step\n",
            "7172/7172 [==============================] - 1s 74us/step\n"
          ],
          "name": "stdout"
        }
      ]
    },
    {
      "cell_type": "code",
      "metadata": {
        "id": "fDILQJvINopL",
        "colab_type": "code",
        "colab": {
          "base_uri": "https://localhost:8080/",
          "height": 225
        },
        "outputId": "09f9a953-72b7-4da1-b3cd-2da5026b9e6f"
      },
      "source": [
        "pred"
      ],
      "execution_count": 24,
      "outputs": [
        {
          "output_type": "execute_result",
          "data": {
            "text/html": [
              "<div>\n",
              "<style scoped>\n",
              "    .dataframe tbody tr th:only-of-type {\n",
              "        vertical-align: middle;\n",
              "    }\n",
              "\n",
              "    .dataframe tbody tr th {\n",
              "        vertical-align: top;\n",
              "    }\n",
              "\n",
              "    .dataframe thead th {\n",
              "        text-align: right;\n",
              "    }\n",
              "</style>\n",
              "<table border=\"1\" class=\"dataframe\">\n",
              "  <thead>\n",
              "    <tr style=\"text-align: right;\">\n",
              "      <th></th>\n",
              "      <th>Model</th>\n",
              "      <th>Accuracy</th>\n",
              "    </tr>\n",
              "  </thead>\n",
              "  <tbody>\n",
              "    <tr>\n",
              "      <th>0</th>\n",
              "      <td>LR</td>\n",
              "      <td>0.691718</td>\n",
              "    </tr>\n",
              "    <tr>\n",
              "      <th>1</th>\n",
              "      <td>SVC</td>\n",
              "      <td>0.841885</td>\n",
              "    </tr>\n",
              "    <tr>\n",
              "      <th>2</th>\n",
              "      <td>DTR</td>\n",
              "      <td>0.432376</td>\n",
              "    </tr>\n",
              "    <tr>\n",
              "      <th>3</th>\n",
              "      <td>RFR</td>\n",
              "      <td>0.814557</td>\n",
              "    </tr>\n",
              "    <tr>\n",
              "      <th>4</th>\n",
              "      <td>ANN</td>\n",
              "      <td>0.820134</td>\n",
              "    </tr>\n",
              "    <tr>\n",
              "      <th>5</th>\n",
              "      <td>CNN</td>\n",
              "      <td>0.994980</td>\n",
              "    </tr>\n",
              "  </tbody>\n",
              "</table>\n",
              "</div>"
            ],
            "text/plain": [
              "  Model  Accuracy\n",
              "0    LR  0.691718\n",
              "1   SVC  0.841885\n",
              "2   DTR  0.432376\n",
              "3   RFR  0.814557\n",
              "4   ANN  0.820134\n",
              "5   CNN  0.994980"
            ]
          },
          "metadata": {
            "tags": []
          },
          "execution_count": 24
        }
      ]
    },
    {
      "cell_type": "code",
      "metadata": {
        "id": "vQ0DXLlKQyHS",
        "colab_type": "code",
        "colab": {
          "base_uri": "https://localhost:8080/",
          "height": 363
        },
        "outputId": "5c7a680e-38ef-4a15-a859-5e5d7573014a"
      },
      "source": [
        "pred.set_index('Model').plot(kind='bar', figsize=(8, 5))"
      ],
      "execution_count": 25,
      "outputs": [
        {
          "output_type": "execute_result",
          "data": {
            "text/plain": [
              "<matplotlib.axes._subplots.AxesSubplot at 0x7fdead6b41d0>"
            ]
          },
          "metadata": {
            "tags": []
          },
          "execution_count": 25
        },
        {
          "output_type": "display_data",
          "data": {
            "image/png": "[encoded data removed]",
            "text/plain": [
              "<Figure size 576x360 with 1 Axes>"
            ]
          },
          "metadata": {
            "tags": [],
            "needs_background": "light"
          }
        }
      ]
    },
    {
      "cell_type": "markdown",
      "metadata": {
        "id": "2DbFWXPOOBTn",
        "colab_type": "text"
      },
      "source": [
        "CNN is performing way better than any other model. We did data augmentation to increase the training data in order to avoid overfitting of the model."
      ]
    }
  ]
}