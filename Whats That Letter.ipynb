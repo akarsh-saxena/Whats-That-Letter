{
  "nbformat": 4,
  "nbformat_minor": 0,
  "metadata": {
    "colab": {
      "name": "Whats That Letter.ipynb",
      "provenance": []
    },
    "kernelspec": {
      "name": "python3",
      "display_name": "Python 3"
    },
    "accelerator": "GPU"
  },
  "cells": [
    {
      "cell_type": "code",
      "metadata": {
        "id": "1NR1fzcmN7NP",
        "colab_type": "code",
        "colab": {}
      },
      "source": [
        "!pip install -q kaggle\n",
        "\n",
        "from google.colab import files\n",
        "files.upload()\n",
        "\n",
        "!mkdir ~/.kaggle\n",
        "!cp kaggle.json ~/.kaggle/\n",
        "!chmod 600 ~/.kaggle/kaggle.json"
      ],
      "execution_count": 0,
      "outputs": []
    },
    {
      "cell_type": "code",
      "metadata": {
        "id": "vZRS2DfwUKk5",
        "colab_type": "code",
        "colab": {
          "base_uri": "https://localhost:8080/",
          "height": 67
        },
        "outputId": "74c79ce4-fb98-4a0e-cdf6-aab7bb9d6833"
      },
      "source": [
        "!kaggle datasets download -d datamunge/sign-language-mnist"
      ],
      "execution_count": 2,
      "outputs": [
        {
          "output_type": "stream",
          "text": [
            "Downloading sign-language-mnist.zip to /content\n",
            " 93% 58.0M/62.6M [00:00<00:00, 27.8MB/s]\n",
            "100% 62.6M/62.6M [00:00<00:00, 91.8MB/s]\n"
          ],
          "name": "stdout"
        }
      ]
    },
    {
      "cell_type": "code",
      "metadata": {
        "id": "JQ3BVE6CUV3o",
        "colab_type": "code",
        "colab": {
          "base_uri": "https://localhost:8080/",
          "height": 151
        },
        "outputId": "4f8d4dbf-ff2e-473b-827a-b1e8e94592ed"
      },
      "source": [
        "!unzip sign-language-mnist.zip"
      ],
      "execution_count": 3,
      "outputs": [
        {
          "output_type": "stream",
          "text": [
            "Archive:  sign-language-mnist.zip\n",
            "  inflating: amer_sign2.png          \n",
            "  inflating: amer_sign3.png          \n",
            "  inflating: american_sign_language.PNG  \n",
            "  inflating: sign_mnist_test.csv     \n",
            "  inflating: sign_mnist_test/sign_mnist_test.csv  \n",
            "  inflating: sign_mnist_train.csv    \n",
            "  inflating: sign_mnist_train/sign_mnist_train.csv  \n"
          ],
          "name": "stdout"
        }
      ]
    },
    {
      "cell_type": "code",
      "metadata": {
        "id": "Tt_if5KLUb3O",
        "colab_type": "code",
        "outputId": "88875973-0cdd-4e0c-c8cb-888571202eae",
        "colab": {
          "base_uri": "https://localhost:8080/",
          "height": 34
        }
      },
      "source": [
        "import pandas as pd\n",
        "import matplotlib.pyplot as plt\n",
        "\n",
        "from sklearn.linear_model import LogisticRegression\n",
        "from sklearn.svm import SVC\n",
        "from sklearn.tree import DecisionTreeClassifier\n",
        "from sklearn.ensemble import RandomForestClassifier\n",
        "from sklearn.metrics import accuracy_score\n",
        "\n",
        "from keras.layers import Input, Dense, Dropout, Convolution2D, MaxPooling2D, Flatten\n",
        "from keras.models import Model\n",
        "from keras.preprocessing.image import ImageDataGenerator\n",
        "from keras.regularizers import l2\n",
        "from keras.callbacks import ReduceLROnPlateau, EarlyStopping"
      ],
      "execution_count": 2,
      "outputs": [
        {
          "output_type": "stream",
          "text": [
            "Using TensorFlow backend.\n"
          ],
          "name": "stderr"
        }
      ]
    },
    {
      "cell_type": "code",
      "metadata": {
        "id": "zNJN89Gkov9-",
        "colab_type": "code",
        "colab": {}
      },
      "source": [
        "def train_ml(X_train, y_train, X_test, y_test):\n",
        "\n",
        "  print('-- Training LR --')\n",
        "  lr = LogisticRegression(max_iter=2000, n_jobs=-1)\n",
        "  lr.fit(X_train, y_train)\n",
        "  y_pred = lr.predict(X_test)\n",
        "  acc_lr = accuracy_score(y_test, y_pred)\n",
        "  print('-- LR Trained --')\n",
        "\n",
        "  print('-- Training SVC --')\n",
        "  svc = SVC()\n",
        "  svc.fit(X_train, y_train)\n",
        "  y_pred_svc = svc.predict(X_test)\n",
        "  acc_svc = accuracy_score(y_test, y_pred_svc)\n",
        "  print('-- SVC Trained --')\n",
        "\n",
        "  print('-- Training DTR --')\n",
        "  dtr = DecisionTreeClassifier()\n",
        "  dtr.fit(X_train, y_train)\n",
        "  y_pred_dtr = dtr.predict(X_test)\n",
        "  acc_dtr = accuracy_score(y_test, y_pred_dtr)\n",
        "  print('-- DTR Trained --')\n",
        "\n",
        "  print('-- Training RFR --')\n",
        "  rfr = RandomForestClassifier(n_jobs=-1)\n",
        "  rfr.fit(X_train, y_train)\n",
        "  y_pred_rfr = rfr.predict(X_test)\n",
        "  acc_rfr = accuracy_score(y_test, y_pred_rfr)\n",
        "  print('-- RFR Trained --')\n",
        "\n",
        "  pred = pd.DataFrame({'Model': ['LR', 'SVC', 'DTR', 'RFR'], 'Accuracy': [acc_lr, acc_svc, acc_dtr, acc_rfr]})\n",
        "\n",
        "  return pred"
      ],
      "execution_count": 0,
      "outputs": []
    },
    {
      "cell_type": "code",
      "metadata": {
        "id": "-zGCpxJ68HzR",
        "colab_type": "code",
        "colab": {}
      },
      "source": [
        "def train_nn(X_train, y_train, X_test, y_test):\n",
        "\n",
        "  i = Input(shape=(X_train.shape[1], ))\n",
        "  x = Dropout(0.2)(i)\n",
        "  x = Dense(units=512, activation='relu')(x)\n",
        "  x = Dropout(0.2)(x)\n",
        "  x = Dense(units=256, activation='relu')(x)\n",
        "  x = Dropout(0.2)(x)\n",
        "  x = Dense(units=128, activation='relu')(x)\n",
        "  x = Dropout(0.2)(x)\n",
        "  x = Dense(units=64, activation='relu')(x)\n",
        "  x = Dense(units=y_train.shape[1], activation='softmax')(x)\n",
        "\n",
        "  model = Model(inputs=i, outputs=x)\n",
        "\n",
        "  model.compile(optimizer='adam', loss='categorical_crossentropy', metrics=['accuracy'])\n",
        "\n",
        "  history = model.fit(X_train, y_train, epochs=100, batch_size=64, validation_data=(X_test, y_test))\n",
        "\n",
        "  return model, history"
      ],
      "execution_count": 0,
      "outputs": []
    },
    {
      "cell_type": "code",
      "metadata": {
        "id": "_Pg_Hmamg0o6",
        "colab_type": "code",
        "colab": {}
      },
      "source": [
        "def train_cnn(X_train, y_train, X_test, y_test, datagen, l2_loss=None, epochs=50, batch_size=64):\n",
        "\n",
        "  if l2_loss is None:\n",
        "    l2_param = None\n",
        "  else:\n",
        "    l2_param = l2(l2_loss)\n",
        "\n",
        "  reduce_lr = ReduceLROnPlateau(monitor='val_loss', patience=5, verbose=1)\n",
        "  es = EarlyStopping(patience=10, verbose=1)\n",
        "\n",
        "  i = Input(shape=(28, 28, 1))\n",
        "  x = Convolution2D(64, input_shape=(28, 28, 1), kernel_size=(5, 5), activation='relu', kernel_regularizer=l2_param)(i)\n",
        "  x = MaxPooling2D(pool_size=(2, 2))(x)\n",
        "  # x = Dropout(0.2)(x)\n",
        "  x = Convolution2D(32, kernel_size=(5, 5), activation='relu', padding='same', kernel_regularizer=l2_param)(x)\n",
        "  x = MaxPooling2D(pool_size=(2, 2))(x)\n",
        "  # x = Dropout(0.2)(5, 5))\n",
        "  x = Convolution2D(16, kernel_size=(5, 5), activation='relu', padding='same', kernel_regularizer=l2_param)(x)\n",
        "  x = MaxPooling2D(pool_size=(2, 2))(x)\n",
        "  # x = Dropout(0.2)(x)\n",
        "  x = Convolution2D(8, kernel_size=(5, 5), activation='relu', padding='same', kernel_regularizer=l2_param)(x)\n",
        "  x = MaxPooling2D(pool_size=(2, 2))(x)\n",
        "  x = Flatten()(x)\n",
        "  x = Dense(y_train.shape[1], activation='softmax')(x)\n",
        "  model = Model(i, x)\n",
        "\n",
        "  model.compile(optimizer='adam', loss='categorical_crossentropy', metrics=['accuracy'])\n",
        "\n",
        "  history = model.fit(datagen.flow(X_train, y_train, batch_size=batch_size), epochs=epochs, validation_data=(X_test, y_test), callbacks=[reduce_lr, es])\n",
        "\n",
        "  return model, history"
      ],
      "execution_count": 0,
      "outputs": []
    },
    {
      "cell_type": "code",
      "metadata": {
        "id": "6rGVXCGOa3u4",
        "colab_type": "code",
        "colab": {}
      },
      "source": [
        "def get_label(code):\n",
        "  return chr(code+65)"
      ],
      "execution_count": 0,
      "outputs": []
    },
    {
      "cell_type": "code",
      "metadata": {
        "id": "9WJi8XC-VLm_",
        "colab_type": "code",
        "colab": {}
      },
      "source": [
        "train_df = pd.read_csv('sign_mnist_train.csv')\n",
        "test_df = pd.read_csv('sign_mnist_test.csv')"
      ],
      "execution_count": 0,
      "outputs": []
    },
    {
      "cell_type": "code",
      "metadata": {
        "id": "iQICIS70VVBi",
        "colab_type": "code",
        "colab": {}
      },
      "source": [
        "X_train, y_train = train_df.iloc[:, 1:], train_df.iloc[:, 0]\n",
        "X_test, y_test = test_df.iloc[:, 1:], test_df.iloc[:, 0]"
      ],
      "execution_count": 0,
      "outputs": []
    },
    {
      "cell_type": "code",
      "metadata": {
        "id": "9BBEpB5UWzGd",
        "colab_type": "code",
        "outputId": "09158fc9-b25b-4188-fdfe-e072b5a8ab94",
        "colab": {
          "base_uri": "https://localhost:8080/",
          "height": 611
        }
      },
      "source": [
        "plt.figure()\n",
        "\n",
        "f, axarr = plt.subplots(4, 4, figsize=(10, 10)) \n",
        "plt.subplots_adjust(left=None, bottom=None, right=None, top=None, wspace=0.1, hspace=0.2)\n",
        "\n",
        "for i in range(4):\n",
        "  for j in range(4):\n",
        "    fig = axarr[i][j].imshow(X_train.iloc[i+j, :].values.reshape(28, 28), cmap='gray')\n",
        "    axarr[i][j].set_title('True Label: '+get_label(y_train[i+j]))\n",
        "    fig.axes.get_xaxis().set_visible(False)\n",
        "    fig.axes.get_yaxis().set_visible(False)"
      ],
      "execution_count": 9,
      "outputs": [
        {
          "output_type": "display_data",
          "data": {
            "text/plain": [
              "<Figure size 432x288 with 0 Axes>"
            ]
          },
          "metadata": {
            "tags": []
          }
        },
        {
          "output_type": "display_data",
          "data": {
            "image/png": "[encoded data removed]",
            "text/plain": [
              "<Figure size 720x720 with 16 Axes>"
            ]
          },
          "metadata": {
            "tags": [],
            "needs_background": "light"
          }
        }
      ]
    },
    {
      "cell_type": "code",
      "metadata": {
        "id": "C4xUFR9_btcW",
        "colab_type": "code",
        "outputId": "5f2818fa-8fc8-4aab-826b-5d8f04130ec6",
        "colab": {
          "base_uri": "https://localhost:8080/",
          "height": 320
        }
      },
      "source": [
        "fig = y_train.apply(get_label).value_counts().sort_values(ascending=False).plot(kind='bar', figsize=(8, 5))"
      ],
      "execution_count": 10,
      "outputs": [
        {
          "output_type": "display_data",
          "data": {
            "image/png": "[encoded data removed]",
            "text/plain": [
              "<Figure size 576x360 with 1 Axes>"
            ]
          },
          "metadata": {
            "tags": [],
            "needs_background": "light"
          }
        }
      ]
    },
    {
      "cell_type": "code",
      "metadata": {
        "id": "Ndm91kddnBBp",
        "colab_type": "code",
        "colab": {}
      },
      "source": [
        "X_train /= 255.\n",
        "X_test /= 255."
      ],
      "execution_count": 0,
      "outputs": []
    },
    {
      "cell_type": "code",
      "metadata": {
        "id": "8QV3Xk2tisFW",
        "colab_type": "code",
        "outputId": "5f4c3c36-6fc1-44e3-c951-542b1925af21",
        "colab": {
          "base_uri": "https://localhost:8080/",
          "height": 300
        }
      },
      "source": [
        "pred = train_ml(X_train, y_train, X_test, y_test)\n",
        "pred"
      ],
      "execution_count": 0,
      "outputs": [
        {
          "output_type": "stream",
          "text": [
            "-- Training LR --\n",
            "-- LR Trained --\n",
            "-- Training SVC --\n",
            "-- SVC Trained --\n",
            "-- Training DTR --\n",
            "-- DTR Trained --\n",
            "-- Training RFR --\n",
            "-- RFR Trained --\n"
          ],
          "name": "stdout"
        },
        {
          "output_type": "execute_result",
          "data": {
            "text/html": [
              "<div>\n",
              "<style scoped>\n",
              "    .dataframe tbody tr th:only-of-type {\n",
              "        vertical-align: middle;\n",
              "    }\n",
              "\n",
              "    .dataframe tbody tr th {\n",
              "        vertical-align: top;\n",
              "    }\n",
              "\n",
              "    .dataframe thead th {\n",
              "        text-align: right;\n",
              "    }\n",
              "</style>\n",
              "<table border=\"1\" class=\"dataframe\">\n",
              "  <thead>\n",
              "    <tr style=\"text-align: right;\">\n",
              "      <th></th>\n",
              "      <th>Model</th>\n",
              "      <th>Accuracy</th>\n",
              "    </tr>\n",
              "  </thead>\n",
              "  <tbody>\n",
              "    <tr>\n",
              "      <th>0</th>\n",
              "      <td>LR</td>\n",
              "      <td>0.691718</td>\n",
              "    </tr>\n",
              "    <tr>\n",
              "      <th>1</th>\n",
              "      <td>SVC</td>\n",
              "      <td>0.841885</td>\n",
              "    </tr>\n",
              "    <tr>\n",
              "      <th>2</th>\n",
              "      <td>DTR</td>\n",
              "      <td>0.441021</td>\n",
              "    </tr>\n",
              "    <tr>\n",
              "      <th>3</th>\n",
              "      <td>RFR</td>\n",
              "      <td>0.811210</td>\n",
              "    </tr>\n",
              "  </tbody>\n",
              "</table>\n",
              "</div>"
            ],
            "text/plain": [
              "  Model  Accuracy\n",
              "0    LR  0.691718\n",
              "1   SVC  0.841885\n",
              "2   DTR  0.441021\n",
              "3   RFR  0.811210"
            ]
          },
          "metadata": {
            "tags": []
          },
          "execution_count": 16
        }
      ]
    },
    {
      "cell_type": "code",
      "metadata": {
        "id": "6zrZJ3_c95wE",
        "colab_type": "code",
        "colab": {}
      },
      "source": [
        "from sklearn.preprocessing import OneHotEncoder\n",
        "\n",
        "ohe = OneHotEncoder()\n",
        "\n",
        "y_train = ohe.fit_transform(y_train.values.reshape(-1, 1))\n",
        "y_test = ohe.transform(y_test.values.reshape(-1, 1))"
      ],
      "execution_count": 0,
      "outputs": []
    },
    {
      "cell_type": "code",
      "metadata": {
        "id": "0nhu9I02-3kw",
        "colab_type": "code",
        "outputId": "876f00a5-64f1-44ae-efa8-3cc3a56c2234",
        "colab": {
          "base_uri": "https://localhost:8080/",
          "height": 34
        }
      },
      "source": [
        "y_train.shape"
      ],
      "execution_count": 13,
      "outputs": [
        {
          "output_type": "execute_result",
          "data": {
            "text/plain": [
              "(27455, 24)"
            ]
          },
          "metadata": {
            "tags": []
          },
          "execution_count": 13
        }
      ]
    },
    {
      "cell_type": "code",
      "metadata": {
        "id": "g0HVD6ju92AL",
        "colab_type": "code",
        "outputId": "3690e875-9ad9-4a88-bd95-2bb0a9ce3814",
        "colab": {
          "base_uri": "https://localhost:8080/",
          "height": 1000
        }
      },
      "source": [
        "model, history = train_nn(X_train, y_train, X_test, y_test)"
      ],
      "execution_count": 0,
      "outputs": [
        {
          "output_type": "stream",
          "text": [
            "Train on 27455 samples, validate on 7172 samples\n",
            "Epoch 1/100\n",
            "27455/27455 [==============================] - 6s 213us/step - loss: 2.7493 - accuracy: 0.1410 - val_loss: 2.1235 - val_accuracy: 0.3105\n",
            "Epoch 2/100\n",
            "27455/27455 [==============================] - 6s 205us/step - loss: 2.0054 - accuracy: 0.3321 - val_loss: 1.6729 - val_accuracy: 0.4711\n",
            "Epoch 3/100\n",
            "27455/27455 [==============================] - 6s 206us/step - loss: 1.7629 - accuracy: 0.4087 - val_loss: 1.4280 - val_accuracy: 0.5353\n",
            "Epoch 4/100\n",
            "27455/27455 [==============================] - 6s 207us/step - loss: 1.5703 - accuracy: 0.4748 - val_loss: 1.2622 - val_accuracy: 0.5740\n",
            "Epoch 5/100\n",
            "27455/27455 [==============================] - 6s 207us/step - loss: 1.4441 - accuracy: 0.5140 - val_loss: 1.2285 - val_accuracy: 0.5605\n",
            "Epoch 6/100\n",
            "27455/27455 [==============================] - 6s 210us/step - loss: 1.3610 - accuracy: 0.5433 - val_loss: 1.1407 - val_accuracy: 0.5892\n",
            "Epoch 7/100\n",
            "27455/27455 [==============================] - 6s 210us/step - loss: 1.2549 - accuracy: 0.5701 - val_loss: 1.0760 - val_accuracy: 0.6096\n",
            "Epoch 8/100\n",
            "27455/27455 [==============================] - 6s 209us/step - loss: 1.1947 - accuracy: 0.5917 - val_loss: 0.9693 - val_accuracy: 0.6707\n",
            "Epoch 9/100\n",
            "27455/27455 [==============================] - 6s 206us/step - loss: 1.1558 - accuracy: 0.6086 - val_loss: 0.9910 - val_accuracy: 0.6451\n",
            "Epoch 10/100\n",
            "27455/27455 [==============================] - 6s 209us/step - loss: 1.1016 - accuracy: 0.6260 - val_loss: 0.9035 - val_accuracy: 0.6708\n",
            "Epoch 11/100\n",
            "27455/27455 [==============================] - 6s 208us/step - loss: 1.0662 - accuracy: 0.6330 - val_loss: 0.8684 - val_accuracy: 0.6899\n",
            "Epoch 12/100\n",
            "27455/27455 [==============================] - 6s 211us/step - loss: 1.0347 - accuracy: 0.6473 - val_loss: 0.8729 - val_accuracy: 0.6827\n",
            "Epoch 13/100\n",
            "27455/27455 [==============================] - 6s 206us/step - loss: 1.0040 - accuracy: 0.6587 - val_loss: 0.8022 - val_accuracy: 0.7153\n",
            "Epoch 14/100\n",
            "27455/27455 [==============================] - 6s 207us/step - loss: 0.9854 - accuracy: 0.6644 - val_loss: 0.7979 - val_accuracy: 0.7224\n",
            "Epoch 15/100\n",
            "27455/27455 [==============================] - 6s 210us/step - loss: 0.9513 - accuracy: 0.6750 - val_loss: 0.7686 - val_accuracy: 0.7269\n",
            "Epoch 16/100\n",
            "27455/27455 [==============================] - 6s 207us/step - loss: 0.9341 - accuracy: 0.6812 - val_loss: 0.7516 - val_accuracy: 0.7384\n",
            "Epoch 17/100\n",
            "27455/27455 [==============================] - 6s 209us/step - loss: 0.9314 - accuracy: 0.6871 - val_loss: 0.7905 - val_accuracy: 0.7236\n",
            "Epoch 18/100\n",
            "27455/27455 [==============================] - 6s 209us/step - loss: 0.9036 - accuracy: 0.6939 - val_loss: 0.7211 - val_accuracy: 0.7398\n",
            "Epoch 19/100\n",
            "27455/27455 [==============================] - 6s 210us/step - loss: 0.8941 - accuracy: 0.6994 - val_loss: 0.7129 - val_accuracy: 0.7598\n",
            "Epoch 20/100\n",
            "27455/27455 [==============================] - 6s 206us/step - loss: 0.8764 - accuracy: 0.7026 - val_loss: 0.7042 - val_accuracy: 0.7740\n",
            "Epoch 21/100\n",
            "27455/27455 [==============================] - 6s 212us/step - loss: 0.8670 - accuracy: 0.7075 - val_loss: 0.6732 - val_accuracy: 0.7589\n",
            "Epoch 22/100\n",
            "27455/27455 [==============================] - 6s 210us/step - loss: 0.8555 - accuracy: 0.7102 - val_loss: 0.6807 - val_accuracy: 0.7706\n",
            "Epoch 23/100\n",
            "27455/27455 [==============================] - 6s 212us/step - loss: 0.8548 - accuracy: 0.7118 - val_loss: 0.7082 - val_accuracy: 0.7291\n",
            "Epoch 24/100\n",
            "27455/27455 [==============================] - 6s 212us/step - loss: 0.8298 - accuracy: 0.7191 - val_loss: 0.7162 - val_accuracy: 0.7496\n",
            "Epoch 25/100\n",
            "27455/27455 [==============================] - 6s 209us/step - loss: 0.8175 - accuracy: 0.7244 - val_loss: 0.7179 - val_accuracy: 0.7676\n",
            "Epoch 26/100\n",
            "27455/27455 [==============================] - 6s 213us/step - loss: 0.8118 - accuracy: 0.7244 - val_loss: 0.7046 - val_accuracy: 0.7599\n",
            "Epoch 27/100\n",
            "27455/27455 [==============================] - 6s 215us/step - loss: 0.8110 - accuracy: 0.7272 - val_loss: 0.7312 - val_accuracy: 0.7588\n",
            "Epoch 28/100\n",
            "27455/27455 [==============================] - 6s 226us/step - loss: 0.7949 - accuracy: 0.7323 - val_loss: 0.6422 - val_accuracy: 0.7867\n",
            "Epoch 29/100\n",
            "27455/27455 [==============================] - 6s 227us/step - loss: 0.7867 - accuracy: 0.7327 - val_loss: 0.6980 - val_accuracy: 0.7637\n",
            "Epoch 30/100\n",
            "27455/27455 [==============================] - 6s 227us/step - loss: 0.7769 - accuracy: 0.7389 - val_loss: 0.6336 - val_accuracy: 0.7863\n",
            "Epoch 31/100\n",
            "27455/27455 [==============================] - 6s 226us/step - loss: 0.7715 - accuracy: 0.7410 - val_loss: 0.6348 - val_accuracy: 0.7849\n",
            "Epoch 32/100\n",
            "27455/27455 [==============================] - 6s 224us/step - loss: 0.7720 - accuracy: 0.7408 - val_loss: 0.6294 - val_accuracy: 0.7833\n",
            "Epoch 33/100\n",
            "27455/27455 [==============================] - 6s 229us/step - loss: 0.7533 - accuracy: 0.7439 - val_loss: 0.6449 - val_accuracy: 0.7726\n",
            "Epoch 34/100\n",
            "27455/27455 [==============================] - 6s 229us/step - loss: 0.7493 - accuracy: 0.7525 - val_loss: 0.6760 - val_accuracy: 0.7764\n",
            "Epoch 35/100\n",
            "27455/27455 [==============================] - 6s 219us/step - loss: 0.7458 - accuracy: 0.7491 - val_loss: 0.6431 - val_accuracy: 0.7828\n",
            "Epoch 36/100\n",
            "27455/27455 [==============================] - 6s 210us/step - loss: 0.7403 - accuracy: 0.7541 - val_loss: 0.6664 - val_accuracy: 0.7776\n",
            "Epoch 37/100\n",
            "27455/27455 [==============================] - 6s 206us/step - loss: 0.7523 - accuracy: 0.7474 - val_loss: 0.6009 - val_accuracy: 0.7920\n",
            "Epoch 38/100\n",
            "27455/27455 [==============================] - 6s 209us/step - loss: 0.7300 - accuracy: 0.7526 - val_loss: 0.5832 - val_accuracy: 0.8001\n",
            "Epoch 39/100\n",
            "27455/27455 [==============================] - 6s 209us/step - loss: 0.7205 - accuracy: 0.7573 - val_loss: 0.6081 - val_accuracy: 0.8034\n",
            "Epoch 40/100\n",
            "27455/27455 [==============================] - 6s 210us/step - loss: 0.7240 - accuracy: 0.7584 - val_loss: 0.6431 - val_accuracy: 0.7975\n",
            "Epoch 41/100\n",
            "27455/27455 [==============================] - 6s 208us/step - loss: 0.7204 - accuracy: 0.7576 - val_loss: 0.6264 - val_accuracy: 0.7890\n",
            "Epoch 42/100\n",
            "27455/27455 [==============================] - 6s 211us/step - loss: 0.7151 - accuracy: 0.7619 - val_loss: 0.6190 - val_accuracy: 0.7934\n",
            "Epoch 43/100\n",
            "27455/27455 [==============================] - 6s 214us/step - loss: 0.7260 - accuracy: 0.7601 - val_loss: 0.6786 - val_accuracy: 0.7702\n",
            "Epoch 44/100\n",
            "27455/27455 [==============================] - 6s 219us/step - loss: 0.6956 - accuracy: 0.7690 - val_loss: 0.6024 - val_accuracy: 0.7900\n",
            "Epoch 45/100\n",
            "27455/27455 [==============================] - 6s 210us/step - loss: 0.6879 - accuracy: 0.7694 - val_loss: 0.6295 - val_accuracy: 0.7648\n",
            "Epoch 46/100\n",
            "27455/27455 [==============================] - 6s 210us/step - loss: 0.7018 - accuracy: 0.7651 - val_loss: 0.6107 - val_accuracy: 0.8038\n",
            "Epoch 47/100\n",
            "27455/27455 [==============================] - 6s 209us/step - loss: 0.7008 - accuracy: 0.7653 - val_loss: 0.6176 - val_accuracy: 0.8044\n",
            "Epoch 48/100\n",
            "27455/27455 [==============================] - 6s 211us/step - loss: 0.6913 - accuracy: 0.7680 - val_loss: 0.6279 - val_accuracy: 0.7992\n",
            "Epoch 49/100\n",
            "27455/27455 [==============================] - 6s 216us/step - loss: 0.6889 - accuracy: 0.7706 - val_loss: 0.6418 - val_accuracy: 0.7734\n",
            "Epoch 50/100\n",
            "27455/27455 [==============================] - 6s 211us/step - loss: 0.6735 - accuracy: 0.7755 - val_loss: 0.6076 - val_accuracy: 0.8100\n",
            "Epoch 51/100\n",
            "27455/27455 [==============================] - 6s 211us/step - loss: 0.6865 - accuracy: 0.7704 - val_loss: 0.6267 - val_accuracy: 0.8021\n",
            "Epoch 52/100\n",
            "27455/27455 [==============================] - 6s 208us/step - loss: 0.6855 - accuracy: 0.7717 - val_loss: 0.5837 - val_accuracy: 0.8042\n",
            "Epoch 53/100\n",
            "27455/27455 [==============================] - 6s 208us/step - loss: 0.6835 - accuracy: 0.7750 - val_loss: 0.6012 - val_accuracy: 0.7953\n",
            "Epoch 54/100\n",
            "27455/27455 [==============================] - 6s 209us/step - loss: 0.6789 - accuracy: 0.7737 - val_loss: 0.5883 - val_accuracy: 0.8097\n",
            "Epoch 55/100\n",
            "27455/27455 [==============================] - 6s 210us/step - loss: 0.6723 - accuracy: 0.7774 - val_loss: 0.5834 - val_accuracy: 0.8094\n",
            "Epoch 56/100\n",
            "27455/27455 [==============================] - 6s 210us/step - loss: 0.6558 - accuracy: 0.7800 - val_loss: 0.6117 - val_accuracy: 0.7883\n",
            "Epoch 57/100\n",
            "27455/27455 [==============================] - 6s 207us/step - loss: 0.6755 - accuracy: 0.7760 - val_loss: 0.6137 - val_accuracy: 0.7903\n",
            "Epoch 58/100\n",
            "27455/27455 [==============================] - 6s 206us/step - loss: 0.6548 - accuracy: 0.7837 - val_loss: 0.6364 - val_accuracy: 0.7996\n",
            "Epoch 59/100\n",
            "27455/27455 [==============================] - 6s 205us/step - loss: 0.6666 - accuracy: 0.7800 - val_loss: 0.5978 - val_accuracy: 0.8019\n",
            "Epoch 60/100\n",
            "27455/27455 [==============================] - 6s 208us/step - loss: 0.6540 - accuracy: 0.7819 - val_loss: 0.6201 - val_accuracy: 0.7697\n",
            "Epoch 61/100\n",
            "27455/27455 [==============================] - 6s 211us/step - loss: 0.6581 - accuracy: 0.7817 - val_loss: 0.6027 - val_accuracy: 0.7920\n",
            "Epoch 62/100\n",
            "27455/27455 [==============================] - 6s 214us/step - loss: 0.6620 - accuracy: 0.7821 - val_loss: 0.6339 - val_accuracy: 0.7783\n",
            "Epoch 63/100\n",
            "27455/27455 [==============================] - 6s 216us/step - loss: 0.6447 - accuracy: 0.7889 - val_loss: 0.5554 - val_accuracy: 0.8093\n",
            "Epoch 64/100\n",
            "27455/27455 [==============================] - 6s 222us/step - loss: 0.6619 - accuracy: 0.7838 - val_loss: 0.5637 - val_accuracy: 0.8249\n",
            "Epoch 65/100\n",
            "27455/27455 [==============================] - 6s 221us/step - loss: 0.6526 - accuracy: 0.7846 - val_loss: 0.6273 - val_accuracy: 0.7967\n",
            "Epoch 66/100\n",
            "27455/27455 [==============================] - 6s 223us/step - loss: 0.6574 - accuracy: 0.7804 - val_loss: 0.6367 - val_accuracy: 0.7878\n",
            "Epoch 67/100\n",
            "27455/27455 [==============================] - 6s 222us/step - loss: 0.6408 - accuracy: 0.7882 - val_loss: 0.6233 - val_accuracy: 0.7895\n",
            "Epoch 68/100\n",
            "27455/27455 [==============================] - 6s 217us/step - loss: 0.6426 - accuracy: 0.7886 - val_loss: 0.5816 - val_accuracy: 0.8108\n",
            "Epoch 69/100\n",
            "27455/27455 [==============================] - 6s 213us/step - loss: 0.6377 - accuracy: 0.7900 - val_loss: 0.5935 - val_accuracy: 0.8084\n",
            "Epoch 70/100\n",
            "27455/27455 [==============================] - 6s 211us/step - loss: 0.6311 - accuracy: 0.7933 - val_loss: 0.6322 - val_accuracy: 0.8051\n",
            "Epoch 71/100\n",
            "27455/27455 [==============================] - 6s 211us/step - loss: 0.6485 - accuracy: 0.7896 - val_loss: 0.5789 - val_accuracy: 0.8140\n",
            "Epoch 72/100\n",
            "27455/27455 [==============================] - 6s 207us/step - loss: 0.6343 - accuracy: 0.7930 - val_loss: 0.5602 - val_accuracy: 0.8240\n",
            "Epoch 73/100\n",
            "27455/27455 [==============================] - 6s 209us/step - loss: 0.6275 - accuracy: 0.7926 - val_loss: 0.5870 - val_accuracy: 0.8006\n",
            "Epoch 74/100\n",
            "27455/27455 [==============================] - 6s 204us/step - loss: 0.6335 - accuracy: 0.7924 - val_loss: 0.5956 - val_accuracy: 0.8171\n",
            "Epoch 75/100\n",
            "27455/27455 [==============================] - 6s 208us/step - loss: 0.6339 - accuracy: 0.7915 - val_loss: 0.5737 - val_accuracy: 0.8179\n",
            "Epoch 76/100\n",
            "27455/27455 [==============================] - 6s 208us/step - loss: 0.6226 - accuracy: 0.7964 - val_loss: 0.5560 - val_accuracy: 0.8239\n",
            "Epoch 77/100\n",
            "27455/27455 [==============================] - 6s 207us/step - loss: 0.6368 - accuracy: 0.7914 - val_loss: 0.5711 - val_accuracy: 0.8143\n",
            "Epoch 78/100\n",
            "27455/27455 [==============================] - 6s 207us/step - loss: 0.6237 - accuracy: 0.7938 - val_loss: 0.5807 - val_accuracy: 0.8090\n",
            "Epoch 79/100\n",
            "27455/27455 [==============================] - 6s 206us/step - loss: 0.6252 - accuracy: 0.7941 - val_loss: 0.5676 - val_accuracy: 0.8259\n",
            "Epoch 80/100\n",
            "27455/27455 [==============================] - 6s 209us/step - loss: 0.6201 - accuracy: 0.7956 - val_loss: 0.5937 - val_accuracy: 0.8112\n",
            "Epoch 81/100\n",
            "27455/27455 [==============================] - 6s 207us/step - loss: 0.6213 - accuracy: 0.7966 - val_loss: 0.5966 - val_accuracy: 0.8028\n",
            "Epoch 82/100\n",
            "27455/27455 [==============================] - 6s 210us/step - loss: 0.6208 - accuracy: 0.7942 - val_loss: 0.6009 - val_accuracy: 0.8090\n",
            "Epoch 83/100\n",
            "27455/27455 [==============================] - 6s 207us/step - loss: 0.6153 - accuracy: 0.7975 - val_loss: 0.6049 - val_accuracy: 0.8147\n",
            "Epoch 84/100\n",
            "27455/27455 [==============================] - 6s 213us/step - loss: 0.6112 - accuracy: 0.8008 - val_loss: 0.5952 - val_accuracy: 0.8044\n",
            "Epoch 85/100\n",
            "27455/27455 [==============================] - 6s 218us/step - loss: 0.6134 - accuracy: 0.7981 - val_loss: 0.5878 - val_accuracy: 0.8238\n",
            "Epoch 86/100\n",
            "27455/27455 [==============================] - 6s 215us/step - loss: 0.6294 - accuracy: 0.7945 - val_loss: 0.6058 - val_accuracy: 0.7956\n",
            "Epoch 87/100\n",
            "27455/27455 [==============================] - 6s 226us/step - loss: 0.6109 - accuracy: 0.7974 - val_loss: 0.5867 - val_accuracy: 0.7895\n",
            "Epoch 88/100\n",
            "27455/27455 [==============================] - 6s 220us/step - loss: 0.6101 - accuracy: 0.7964 - val_loss: 0.6034 - val_accuracy: 0.7982\n",
            "Epoch 89/100\n",
            "27455/27455 [==============================] - 6s 211us/step - loss: 0.6029 - accuracy: 0.8009 - val_loss: 0.5970 - val_accuracy: 0.8033\n",
            "Epoch 90/100\n",
            "27455/27455 [==============================] - 6s 212us/step - loss: 0.6061 - accuracy: 0.7994 - val_loss: 0.5913 - val_accuracy: 0.7988\n",
            "Epoch 91/100\n",
            "27455/27455 [==============================] - 6s 210us/step - loss: 0.6025 - accuracy: 0.8024 - val_loss: 0.5891 - val_accuracy: 0.8028\n",
            "Epoch 92/100\n",
            "27455/27455 [==============================] - 6s 207us/step - loss: 0.6115 - accuracy: 0.8004 - val_loss: 0.5913 - val_accuracy: 0.8070\n",
            "Epoch 93/100\n",
            "27455/27455 [==============================] - 6s 208us/step - loss: 0.6009 - accuracy: 0.8033 - val_loss: 0.6084 - val_accuracy: 0.8033\n",
            "Epoch 94/100\n",
            "27455/27455 [==============================] - 6s 209us/step - loss: 0.6003 - accuracy: 0.8037 - val_loss: 0.6103 - val_accuracy: 0.7975\n",
            "Epoch 95/100\n",
            "27455/27455 [==============================] - 6s 209us/step - loss: 0.6072 - accuracy: 0.7997 - val_loss: 0.5700 - val_accuracy: 0.8155\n",
            "Epoch 96/100\n",
            "27455/27455 [==============================] - 6s 213us/step - loss: 0.5890 - accuracy: 0.8071 - val_loss: 0.6300 - val_accuracy: 0.7959\n",
            "Epoch 97/100\n",
            "27455/27455 [==============================] - 6s 208us/step - loss: 0.5966 - accuracy: 0.8064 - val_loss: 0.5560 - val_accuracy: 0.8211\n",
            "Epoch 98/100\n",
            "27455/27455 [==============================] - 6s 212us/step - loss: 0.6072 - accuracy: 0.7997 - val_loss: 0.5515 - val_accuracy: 0.8074\n",
            "Epoch 99/100\n",
            "27455/27455 [==============================] - 6s 210us/step - loss: 0.5945 - accuracy: 0.8027 - val_loss: 0.5739 - val_accuracy: 0.8009\n",
            "Epoch 100/100\n",
            "27455/27455 [==============================] - 6s 210us/step - loss: 0.5890 - accuracy: 0.8075 - val_loss: 0.6080 - val_accuracy: 0.7966\n"
          ],
          "name": "stdout"
        }
      ]
    },
    {
      "cell_type": "code",
      "metadata": {
        "id": "oXlYTyd9_Oh1",
        "colab_type": "code",
        "outputId": "c16dda3e-e83f-4931-b04a-3d7c9fc8975e",
        "colab": {
          "base_uri": "https://localhost:8080/",
          "height": 282
        }
      },
      "source": [
        "plt.plot(history.history['val_accuracy'])\n",
        "plt.plot(history.history['accuracy'], color='red')"
      ],
      "execution_count": 0,
      "outputs": [
        {
          "output_type": "execute_result",
          "data": {
            "text/plain": [
              "[<matplotlib.lines.Line2D at 0x7f10e4b76d68>]"
            ]
          },
          "metadata": {
            "tags": []
          },
          "execution_count": 36
        },
        {
          "output_type": "display_data",
          "data": {
            "image/png": "[encoded data removed]",
            "text/plain": [
              "<Figure size 432x288 with 1 Axes>"
            ]
          },
          "metadata": {
            "tags": [],
            "needs_background": "light"
          }
        }
      ]
    },
    {
      "cell_type": "code",
      "metadata": {
        "id": "XYDCt0O6Igq3",
        "colab_type": "code",
        "colab": {}
      },
      "source": [
        "X_train = X_train.values.reshape(-1, 28, 28, 1)\n",
        "X_test = X_test.values.reshape(-1, 28, 28, 1)"
      ],
      "execution_count": 0,
      "outputs": []
    },
    {
      "cell_type": "code",
      "metadata": {
        "id": "9mOS4ByqwdtE",
        "colab_type": "code",
        "colab": {}
      },
      "source": [
        "datagen = ImageDataGenerator(\n",
        "        rotation_range=10,\n",
        "        zoom_range = 0.1,\n",
        "        width_shift_range=0.1,\n",
        "        height_shift_range=0.1)\n",
        "\n",
        "datagen.fit(X_train)"
      ],
      "execution_count": 0,
      "outputs": []
    },
    {
      "cell_type": "code",
      "metadata": {
        "id": "VH8PzJv8l4Bq",
        "colab_type": "code",
        "colab": {
          "base_uri": "https://localhost:8080/",
          "height": 1000
        },
        "outputId": "89888dbb-280d-404a-e24d-e4604fd4299e"
      },
      "source": [
        "model_cnn, history_cnn = train_cnn(X_train, y_train.toarray(), X_test, y_test.toarray(), datagen, epochs=100, batch_size=64)"
      ],
      "execution_count": 16,
      "outputs": [
        {
          "output_type": "stream",
          "text": [
            "Epoch 1/100\n",
            "429/429 [==============================] - 9s 21ms/step - loss: 2.6050 - accuracy: 0.1942 - val_loss: 1.5816 - val_accuracy: 0.4644\n",
            "Epoch 2/100\n",
            "429/429 [==============================] - 7s 17ms/step - loss: 1.3016 - accuracy: 0.5689 - val_loss: 0.7909 - val_accuracy: 0.7146\n",
            "Epoch 3/100\n",
            "429/429 [==============================] - 7s 17ms/step - loss: 0.7531 - accuracy: 0.7508 - val_loss: 0.4812 - val_accuracy: 0.8139\n",
            "Epoch 4/100\n",
            "429/429 [==============================] - 7s 17ms/step - loss: 0.5133 - accuracy: 0.8297 - val_loss: 0.3043 - val_accuracy: 0.8993\n",
            "Epoch 5/100\n",
            "429/429 [==============================] - 8s 18ms/step - loss: 0.3688 - accuracy: 0.8772 - val_loss: 0.2505 - val_accuracy: 0.9076\n",
            "Epoch 6/100\n",
            "429/429 [==============================] - 7s 17ms/step - loss: 0.2828 - accuracy: 0.9080 - val_loss: 0.1647 - val_accuracy: 0.9420\n",
            "Epoch 7/100\n",
            "429/429 [==============================] - 8s 18ms/step - loss: 0.2287 - accuracy: 0.9261 - val_loss: 0.1361 - val_accuracy: 0.9477\n",
            "Epoch 8/100\n",
            "429/429 [==============================] - 8s 18ms/step - loss: 0.1850 - accuracy: 0.9405 - val_loss: 0.0809 - val_accuracy: 0.9777\n",
            "Epoch 9/100\n",
            "429/429 [==============================] - 8s 18ms/step - loss: 0.1609 - accuracy: 0.9480 - val_loss: 0.0838 - val_accuracy: 0.9743\n",
            "Epoch 10/100\n",
            "429/429 [==============================] - 8s 18ms/step - loss: 0.1389 - accuracy: 0.9552 - val_loss: 0.0578 - val_accuracy: 0.9845\n",
            "Epoch 11/100\n",
            "429/429 [==============================] - 8s 18ms/step - loss: 0.1243 - accuracy: 0.9595 - val_loss: 0.0879 - val_accuracy: 0.9735\n",
            "Epoch 12/100\n",
            "429/429 [==============================] - 8s 18ms/step - loss: 0.1033 - accuracy: 0.9667 - val_loss: 0.0555 - val_accuracy: 0.9837\n",
            "Epoch 13/100\n",
            "429/429 [==============================] - 8s 18ms/step - loss: 0.0888 - accuracy: 0.9716 - val_loss: 0.0555 - val_accuracy: 0.9795\n",
            "Epoch 14/100\n",
            "429/429 [==============================] - 8s 18ms/step - loss: 0.0967 - accuracy: 0.9685 - val_loss: 0.0312 - val_accuracy: 0.9915\n",
            "Epoch 15/100\n",
            "429/429 [==============================] - 8s 18ms/step - loss: 0.0817 - accuracy: 0.9734 - val_loss: 0.0380 - val_accuracy: 0.9897\n",
            "Epoch 16/100\n",
            "429/429 [==============================] - 8s 18ms/step - loss: 0.0764 - accuracy: 0.9762 - val_loss: 0.0346 - val_accuracy: 0.9884\n",
            "Epoch 17/100\n",
            "429/429 [==============================] - 8s 18ms/step - loss: 0.0687 - accuracy: 0.9772 - val_loss: 0.0551 - val_accuracy: 0.9794\n",
            "Epoch 18/100\n",
            "429/429 [==============================] - 8s 18ms/step - loss: 0.0628 - accuracy: 0.9800 - val_loss: 0.0358 - val_accuracy: 0.9921\n",
            "Epoch 19/100\n",
            "429/429 [==============================] - 8s 18ms/step - loss: 0.0582 - accuracy: 0.9813 - val_loss: 0.0987 - val_accuracy: 0.9646\n",
            "\n",
            "Epoch 00019: ReduceLROnPlateau reducing learning rate to 0.00010000000474974513.\n",
            "Epoch 20/100\n",
            "429/429 [==============================] - 8s 18ms/step - loss: 0.0336 - accuracy: 0.9897 - val_loss: 0.0176 - val_accuracy: 0.9939\n",
            "Epoch 21/100\n",
            "429/429 [==============================] - 8s 18ms/step - loss: 0.0286 - accuracy: 0.9912 - val_loss: 0.0184 - val_accuracy: 0.9927\n",
            "Epoch 22/100\n",
            "429/429 [==============================] - 8s 18ms/step - loss: 0.0244 - accuracy: 0.9929 - val_loss: 0.0162 - val_accuracy: 0.9958\n",
            "Epoch 23/100\n",
            "429/429 [==============================] - 8s 18ms/step - loss: 0.0245 - accuracy: 0.9925 - val_loss: 0.0203 - val_accuracy: 0.9951\n",
            "Epoch 24/100\n",
            "429/429 [==============================] - 8s 18ms/step - loss: 0.0248 - accuracy: 0.9926 - val_loss: 0.0149 - val_accuracy: 0.9972\n",
            "Epoch 25/100\n",
            "429/429 [==============================] - 8s 18ms/step - loss: 0.0239 - accuracy: 0.9926 - val_loss: 0.0198 - val_accuracy: 0.9958\n",
            "Epoch 26/100\n",
            "429/429 [==============================] - 8s 18ms/step - loss: 0.0237 - accuracy: 0.9933 - val_loss: 0.0148 - val_accuracy: 0.9967\n",
            "Epoch 27/100\n",
            "429/429 [==============================] - 8s 18ms/step - loss: 0.0223 - accuracy: 0.9940 - val_loss: 0.0192 - val_accuracy: 0.9951\n",
            "Epoch 28/100\n",
            "429/429 [==============================] - 8s 18ms/step - loss: 0.0223 - accuracy: 0.9938 - val_loss: 0.0182 - val_accuracy: 0.9957\n",
            "Epoch 29/100\n",
            "429/429 [==============================] - 8s 18ms/step - loss: 0.0221 - accuracy: 0.9930 - val_loss: 0.0160 - val_accuracy: 0.9947\n",
            "Epoch 30/100\n",
            "429/429 [==============================] - 8s 18ms/step - loss: 0.0203 - accuracy: 0.9937 - val_loss: 0.0163 - val_accuracy: 0.9969\n",
            "Epoch 31/100\n",
            "429/429 [==============================] - 8s 18ms/step - loss: 0.0188 - accuracy: 0.9950 - val_loss: 0.0156 - val_accuracy: 0.9958\n",
            "\n",
            "Epoch 00031: ReduceLROnPlateau reducing learning rate to 1.0000000474974514e-05.\n",
            "Epoch 32/100\n",
            "429/429 [==============================] - 8s 18ms/step - loss: 0.0190 - accuracy: 0.9946 - val_loss: 0.0147 - val_accuracy: 0.9962\n",
            "Epoch 33/100\n",
            "429/429 [==============================] - 8s 18ms/step - loss: 0.0163 - accuracy: 0.9953 - val_loss: 0.0146 - val_accuracy: 0.9961\n",
            "Epoch 34/100\n",
            "429/429 [==============================] - 8s 18ms/step - loss: 0.0183 - accuracy: 0.9945 - val_loss: 0.0136 - val_accuracy: 0.9967\n",
            "Epoch 35/100\n",
            "429/429 [==============================] - 8s 18ms/step - loss: 0.0183 - accuracy: 0.9949 - val_loss: 0.0150 - val_accuracy: 0.9965\n",
            "Epoch 36/100\n",
            "429/429 [==============================] - 8s 18ms/step - loss: 0.0181 - accuracy: 0.9944 - val_loss: 0.0137 - val_accuracy: 0.9968\n",
            "Epoch 37/100\n",
            "429/429 [==============================] - 8s 18ms/step - loss: 0.0171 - accuracy: 0.9952 - val_loss: 0.0144 - val_accuracy: 0.9967\n",
            "Epoch 38/100\n",
            "429/429 [==============================] - 8s 18ms/step - loss: 0.0163 - accuracy: 0.9956 - val_loss: 0.0146 - val_accuracy: 0.9964\n",
            "Epoch 39/100\n",
            "429/429 [==============================] - 8s 18ms/step - loss: 0.0175 - accuracy: 0.9949 - val_loss: 0.0136 - val_accuracy: 0.9967\n",
            "\n",
            "Epoch 00039: ReduceLROnPlateau reducing learning rate to 1.0000000656873453e-06.\n",
            "Epoch 40/100\n",
            "429/429 [==============================] - 8s 18ms/step - loss: 0.0179 - accuracy: 0.9949 - val_loss: 0.0134 - val_accuracy: 0.9969\n",
            "Epoch 41/100\n",
            "429/429 [==============================] - 8s 18ms/step - loss: 0.0166 - accuracy: 0.9955 - val_loss: 0.0135 - val_accuracy: 0.9968\n",
            "Epoch 42/100\n",
            "429/429 [==============================] - 8s 18ms/step - loss: 0.0162 - accuracy: 0.9953 - val_loss: 0.0135 - val_accuracy: 0.9968\n",
            "Epoch 43/100\n",
            "429/429 [==============================] - 8s 18ms/step - loss: 0.0182 - accuracy: 0.9949 - val_loss: 0.0136 - val_accuracy: 0.9968\n",
            "Epoch 44/100\n",
            "429/429 [==============================] - 8s 18ms/step - loss: 0.0164 - accuracy: 0.9954 - val_loss: 0.0136 - val_accuracy: 0.9968\n",
            "Epoch 45/100\n",
            "429/429 [==============================] - 8s 18ms/step - loss: 0.0165 - accuracy: 0.9954 - val_loss: 0.0134 - val_accuracy: 0.9968\n",
            "\n",
            "Epoch 00045: ReduceLROnPlateau reducing learning rate to 1.0000001111620805e-07.\n",
            "Epoch 46/100\n",
            "429/429 [==============================] - 8s 18ms/step - loss: 0.0164 - accuracy: 0.9957 - val_loss: 0.0134 - val_accuracy: 0.9968\n",
            "Epoch 47/100\n",
            "429/429 [==============================] - 8s 18ms/step - loss: 0.0178 - accuracy: 0.9945 - val_loss: 0.0134 - val_accuracy: 0.9968\n",
            "Epoch 48/100\n",
            "429/429 [==============================] - 8s 18ms/step - loss: 0.0170 - accuracy: 0.9953 - val_loss: 0.0134 - val_accuracy: 0.9968\n",
            "Epoch 49/100\n",
            "429/429 [==============================] - 8s 18ms/step - loss: 0.0183 - accuracy: 0.9946 - val_loss: 0.0134 - val_accuracy: 0.9968\n",
            "Epoch 50/100\n",
            "429/429 [==============================] - 8s 18ms/step - loss: 0.0175 - accuracy: 0.9951 - val_loss: 0.0134 - val_accuracy: 0.9968\n",
            "\n",
            "Epoch 00050: ReduceLROnPlateau reducing learning rate to 1.000000082740371e-08.\n",
            "Epoch 00050: early stopping\n"
          ],
          "name": "stdout"
        }
      ]
    },
    {
      "cell_type": "code",
      "metadata": {
        "id": "ixiiXl2HKEQe",
        "colab_type": "code",
        "colab": {
          "base_uri": "https://localhost:8080/",
          "height": 282
        },
        "outputId": "e6a12dc5-2b53-4b7a-ff19-8f6f9c21d320"
      },
      "source": [
        "plt.plot(history_cnn.history['val_accuracy'])\n",
        "plt.plot(history_cnn.history['accuracy'], color='red')"
      ],
      "execution_count": 17,
      "outputs": [
        {
          "output_type": "execute_result",
          "data": {
            "text/plain": [
              "[<matplotlib.lines.Line2D at 0x7f5f5a3dc438>]"
            ]
          },
          "metadata": {
            "tags": []
          },
          "execution_count": 17
        },
        {
          "output_type": "display_data",
          "data": {
            "image/png": "[encoded data removed]",
            "text/plain": [
              "<Figure size 432x288 with 1 Axes>"
            ]
          },
          "metadata": {
            "tags": [],
            "needs_background": "light"
          }
        }
      ]
    }
  ]
}